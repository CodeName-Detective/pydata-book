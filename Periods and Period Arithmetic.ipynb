{
 "cells": [
  {
   "cell_type": "code",
   "execution_count": 1,
   "metadata": {},
   "outputs": [],
   "source": [
    "import pandas as pd\n",
    "import numpy as np\n",
    "from datetime import datetime"
   ]
  },
  {
   "cell_type": "code",
   "execution_count": 3,
   "metadata": {},
   "outputs": [
    {
     "data": {
      "text/plain": [
       "Period('2007', 'A-DEC')"
      ]
     },
     "execution_count": 3,
     "metadata": {},
     "output_type": "execute_result"
    }
   ],
   "source": [
    "p = pd.Period(2007,freq='A-DEC')\n",
    "p"
   ]
  },
  {
   "cell_type": "code",
   "execution_count": 4,
   "metadata": {},
   "outputs": [
    {
     "data": {
      "text/plain": [
       "Period('2012', 'A-DEC')"
      ]
     },
     "execution_count": 4,
     "metadata": {},
     "output_type": "execute_result"
    }
   ],
   "source": [
    "p+5"
   ]
  },
  {
   "cell_type": "code",
   "execution_count": 5,
   "metadata": {},
   "outputs": [
    {
     "data": {
      "text/plain": [
       "Period('2005', 'A-DEC')"
      ]
     },
     "execution_count": 5,
     "metadata": {},
     "output_type": "execute_result"
    }
   ],
   "source": [
    "p-2"
   ]
  },
  {
   "cell_type": "code",
   "execution_count": 7,
   "metadata": {},
   "outputs": [
    {
     "data": {
      "text/plain": [
       "<7 * YearEnds: month=12>"
      ]
     },
     "execution_count": 7,
     "metadata": {},
     "output_type": "execute_result"
    }
   ],
   "source": [
    "pd.Period('2014', freq='A-DEC')-p"
   ]
  },
  {
   "cell_type": "code",
   "execution_count": 9,
   "metadata": {},
   "outputs": [
    {
     "data": {
      "text/plain": [
       "PeriodIndex(['2000-01', '2000-02', '2000-03', '2000-04', '2000-05', '2000-06'], dtype='period[M]', freq='M')"
      ]
     },
     "execution_count": 9,
     "metadata": {},
     "output_type": "execute_result"
    }
   ],
   "source": [
    "rng = pd.period_range('2000-01-01','2000-06-30',freq='M')\n",
    "rng"
   ]
  },
  {
   "cell_type": "code",
   "execution_count": 10,
   "metadata": {},
   "outputs": [
    {
     "data": {
      "text/plain": [
       "2000-01   -1.638071\n",
       "2000-02    0.755492\n",
       "2000-03   -0.515945\n",
       "2000-04    2.320487\n",
       "2000-05    0.150245\n",
       "2000-06   -1.248411\n",
       "Freq: M, dtype: float64"
      ]
     },
     "execution_count": 10,
     "metadata": {},
     "output_type": "execute_result"
    }
   ],
   "source": [
    "pd.Series(np.random.randn(len(rng)),index=rng)"
   ]
  },
  {
   "cell_type": "code",
   "execution_count": 11,
   "metadata": {},
   "outputs": [
    {
     "data": {
      "text/plain": [
       "PeriodIndex(['2001Q1', '2002Q2', '2003Q1'], dtype='period[Q-DEC]', freq='Q-DEC')"
      ]
     },
     "execution_count": 11,
     "metadata": {},
     "output_type": "execute_result"
    }
   ],
   "source": [
    "values = ['2001Q1','2002Q2','2003Q1']\n",
    "index = pd.PeriodIndex(values,freq='Q-DEC')\n",
    "index"
   ]
  },
  {
   "cell_type": "markdown",
   "metadata": {},
   "source": [
    "# Period Frequency Conversion"
   ]
  },
  {
   "cell_type": "code",
   "execution_count": 12,
   "metadata": {},
   "outputs": [
    {
     "data": {
      "text/plain": [
       "Period('2007', 'A-DEC')"
      ]
     },
     "execution_count": 12,
     "metadata": {},
     "output_type": "execute_result"
    }
   ],
   "source": [
    "p = pd.Period('2007',freq='A-DEC')\n",
    "p"
   ]
  },
  {
   "cell_type": "code",
   "execution_count": 13,
   "metadata": {},
   "outputs": [
    {
     "data": {
      "text/plain": [
       "Period('2007-01', 'M')"
      ]
     },
     "execution_count": 13,
     "metadata": {},
     "output_type": "execute_result"
    }
   ],
   "source": [
    "p.asfreq('M',how='start')"
   ]
  },
  {
   "cell_type": "code",
   "execution_count": 14,
   "metadata": {},
   "outputs": [
    {
     "data": {
      "text/plain": [
       "Period('2007-12', 'M')"
      ]
     },
     "execution_count": 14,
     "metadata": {},
     "output_type": "execute_result"
    }
   ],
   "source": [
    "p.asfreq('M',how='end')"
   ]
  },
  {
   "cell_type": "code",
   "execution_count": 15,
   "metadata": {},
   "outputs": [
    {
     "data": {
      "text/plain": [
       "Period('2007', 'A-JUN')"
      ]
     },
     "execution_count": 15,
     "metadata": {},
     "output_type": "execute_result"
    }
   ],
   "source": [
    "p =pd.Period('2007', freq='A-JUN')\n",
    "p"
   ]
  },
  {
   "cell_type": "code",
   "execution_count": 16,
   "metadata": {},
   "outputs": [
    {
     "data": {
      "text/plain": [
       "Period('2006-07', 'M')"
      ]
     },
     "execution_count": 16,
     "metadata": {},
     "output_type": "execute_result"
    }
   ],
   "source": [
    "p.asfreq('M','start')"
   ]
  },
  {
   "cell_type": "code",
   "execution_count": 17,
   "metadata": {},
   "outputs": [
    {
     "data": {
      "text/plain": [
       "Period('2007-06', 'M')"
      ]
     },
     "execution_count": 17,
     "metadata": {},
     "output_type": "execute_result"
    }
   ],
   "source": [
    "p.asfreq('M','end')"
   ]
  },
  {
   "cell_type": "code",
   "execution_count": 18,
   "metadata": {},
   "outputs": [
    {
     "data": {
      "text/plain": [
       "Period('2007-08', 'M')"
      ]
     },
     "execution_count": 18,
     "metadata": {},
     "output_type": "execute_result"
    }
   ],
   "source": [
    "p =pd.Period('AUG-2007', 'M')\n",
    "p"
   ]
  },
  {
   "cell_type": "code",
   "execution_count": 19,
   "metadata": {},
   "outputs": [
    {
     "data": {
      "text/plain": [
       "Period('2008', 'A-JUN')"
      ]
     },
     "execution_count": 19,
     "metadata": {},
     "output_type": "execute_result"
    }
   ],
   "source": [
    "p.asfreq('A-JUN')"
   ]
  },
  {
   "cell_type": "code",
   "execution_count": 20,
   "metadata": {},
   "outputs": [
    {
     "data": {
      "text/plain": [
       "2006   -0.701355\n",
       "2007    0.024848\n",
       "2008   -0.782519\n",
       "2009   -1.181986\n",
       "Freq: A-DEC, dtype: float64"
      ]
     },
     "execution_count": 20,
     "metadata": {},
     "output_type": "execute_result"
    }
   ],
   "source": [
    "rng = pd.period_range('2006','2009',freq='A-DEC')\n",
    "ts = pd.Series(np.random.randn(len(rng)),index=rng)\n",
    "ts"
   ]
  },
  {
   "cell_type": "code",
   "execution_count": 21,
   "metadata": {},
   "outputs": [
    {
     "data": {
      "text/plain": [
       "2006-01   -0.701355\n",
       "2007-01    0.024848\n",
       "2008-01   -0.782519\n",
       "2009-01   -1.181986\n",
       "Freq: M, dtype: float64"
      ]
     },
     "execution_count": 21,
     "metadata": {},
     "output_type": "execute_result"
    }
   ],
   "source": [
    "ts.asfreq('M',how='start')"
   ]
  },
  {
   "cell_type": "code",
   "execution_count": 22,
   "metadata": {},
   "outputs": [
    {
     "data": {
      "text/plain": [
       "2006-12-29   -0.701355\n",
       "2007-12-31    0.024848\n",
       "2008-12-31   -0.782519\n",
       "2009-12-31   -1.181986\n",
       "Freq: B, dtype: float64"
      ]
     },
     "execution_count": 22,
     "metadata": {},
     "output_type": "execute_result"
    }
   ],
   "source": [
    "ts.asfreq('B',how='end')"
   ]
  },
  {
   "cell_type": "code",
   "execution_count": 23,
   "metadata": {},
   "outputs": [
    {
     "data": {
      "text/plain": [
       "2006-01-02   -0.701355\n",
       "2007-01-01    0.024848\n",
       "2008-01-01   -0.782519\n",
       "2009-01-01   -1.181986\n",
       "Freq: B, dtype: float64"
      ]
     },
     "execution_count": 23,
     "metadata": {},
     "output_type": "execute_result"
    }
   ],
   "source": [
    "ts.asfreq('B',how='start')"
   ]
  },
  {
   "cell_type": "markdown",
   "metadata": {},
   "source": [
    "# Quarterly Period Frequencies"
   ]
  },
  {
   "cell_type": "code",
   "execution_count": 24,
   "metadata": {},
   "outputs": [
    {
     "data": {
      "text/plain": [
       "Period('2012Q4', 'Q-JAN')"
      ]
     },
     "execution_count": 24,
     "metadata": {},
     "output_type": "execute_result"
    }
   ],
   "source": [
    "p = pd.Period('2012Q4',freq='Q-JAN')\n",
    "p"
   ]
  },
  {
   "cell_type": "code",
   "execution_count": 25,
   "metadata": {},
   "outputs": [
    {
     "data": {
      "text/plain": [
       "Period('2011-11-01', 'D')"
      ]
     },
     "execution_count": 25,
     "metadata": {},
     "output_type": "execute_result"
    }
   ],
   "source": [
    "p.asfreq('D','start')"
   ]
  },
  {
   "cell_type": "code",
   "execution_count": 26,
   "metadata": {},
   "outputs": [
    {
     "data": {
      "text/plain": [
       "Period('2012-01-31', 'D')"
      ]
     },
     "execution_count": 26,
     "metadata": {},
     "output_type": "execute_result"
    }
   ],
   "source": [
    "p.asfreq('D','end')"
   ]
  },
  {
   "cell_type": "code",
   "execution_count": 32,
   "metadata": {},
   "outputs": [
    {
     "data": {
      "text/plain": [
       "Period('2012-01-30 16:00', 'T')"
      ]
     },
     "execution_count": 32,
     "metadata": {},
     "output_type": "execute_result"
    }
   ],
   "source": [
    "p4pm = (p.asfreq('B','e')-1).asfreq('T','s')+16*60\n",
    "p4pm"
   ]
  },
  {
   "cell_type": "code",
   "execution_count": 33,
   "metadata": {},
   "outputs": [
    {
     "data": {
      "text/plain": [
       "Timestamp('2012-01-30 16:00:00')"
      ]
     },
     "execution_count": 33,
     "metadata": {},
     "output_type": "execute_result"
    }
   ],
   "source": [
    "p4pm.to_timestamp()"
   ]
  },
  {
   "cell_type": "code",
   "execution_count": 34,
   "metadata": {},
   "outputs": [
    {
     "data": {
      "text/plain": [
       "PeriodIndex(['2011Q3', '2011Q4', '2012Q1', '2012Q2', '2012Q3', '2012Q4'], dtype='period[Q-JAN]', freq='Q-JAN')"
      ]
     },
     "execution_count": 34,
     "metadata": {},
     "output_type": "execute_result"
    }
   ],
   "source": [
    "rng = pd.period_range('2011Q3','2012Q4', freq='Q-JAN')\n",
    "rng"
   ]
  },
  {
   "cell_type": "code",
   "execution_count": 35,
   "metadata": {},
   "outputs": [
    {
     "data": {
      "text/plain": [
       "2011Q3    0\n",
       "2011Q4    1\n",
       "2012Q1    2\n",
       "2012Q2    3\n",
       "2012Q3    4\n",
       "2012Q4    5\n",
       "Freq: Q-JAN, dtype: int32"
      ]
     },
     "execution_count": 35,
     "metadata": {},
     "output_type": "execute_result"
    }
   ],
   "source": [
    "ts = pd.Series(np.arange(len(rng)),index=rng)\n",
    "ts"
   ]
  },
  {
   "cell_type": "code",
   "execution_count": 37,
   "metadata": {},
   "outputs": [
    {
     "data": {
      "text/plain": [
       "PeriodIndex(['2010-10-28 16:00', '2011-01-28 16:00', '2011-04-28 16:00',\n",
       "             '2011-07-28 16:00', '2011-10-28 16:00', '2012-01-30 16:00'],\n",
       "            dtype='period[T]', freq='T')"
      ]
     },
     "execution_count": 37,
     "metadata": {},
     "output_type": "execute_result"
    }
   ],
   "source": [
    "new_rng = (rng.asfreq('B','e')-1).asfreq('T','S')+16*60\n",
    "new_rng"
   ]
  },
  {
   "cell_type": "code",
   "execution_count": 38,
   "metadata": {},
   "outputs": [],
   "source": [
    "ts.index = new_rng.to_timestamp()"
   ]
  },
  {
   "cell_type": "code",
   "execution_count": 39,
   "metadata": {},
   "outputs": [
    {
     "data": {
      "text/plain": [
       "2010-10-28 16:00:00    0\n",
       "2011-01-28 16:00:00    1\n",
       "2011-04-28 16:00:00    2\n",
       "2011-07-28 16:00:00    3\n",
       "2011-10-28 16:00:00    4\n",
       "2012-01-30 16:00:00    5\n",
       "dtype: int32"
      ]
     },
     "execution_count": 39,
     "metadata": {},
     "output_type": "execute_result"
    }
   ],
   "source": [
    "ts"
   ]
  },
  {
   "cell_type": "markdown",
   "metadata": {},
   "source": [
    "# Converting Timestamps to Periods and Back"
   ]
  },
  {
   "cell_type": "code",
   "execution_count": 42,
   "metadata": {},
   "outputs": [
    {
     "data": {
      "text/plain": [
       "2000-01-31   -0.838640\n",
       "2000-02-29   -1.335152\n",
       "2000-03-31   -1.966839\n",
       "Freq: M, dtype: float64"
      ]
     },
     "execution_count": 42,
     "metadata": {},
     "output_type": "execute_result"
    }
   ],
   "source": [
    "rng = pd.date_range('2000-01-01', periods=3, freq='M')\n",
    "ts = pd.Series(np.random.randn(3), index=rng)\n",
    "ts"
   ]
  },
  {
   "cell_type": "code",
   "execution_count": 43,
   "metadata": {},
   "outputs": [
    {
     "data": {
      "text/plain": [
       "2000-01   -0.838640\n",
       "2000-02   -1.335152\n",
       "2000-03   -1.966839\n",
       "Freq: M, dtype: float64"
      ]
     },
     "execution_count": 43,
     "metadata": {},
     "output_type": "execute_result"
    }
   ],
   "source": [
    "pts = ts.to_period()\n",
    "pts"
   ]
  },
  {
   "cell_type": "code",
   "execution_count": 51,
   "metadata": {},
   "outputs": [
    {
     "data": {
      "text/plain": [
       "2000-01-29    1.333357\n",
       "2000-01-30    1.257812\n",
       "2000-01-31    1.054532\n",
       "2000-02-01   -2.182354\n",
       "2000-02-02   -1.566628\n",
       "2000-02-03    0.441490\n",
       "Freq: D, dtype: float64"
      ]
     },
     "execution_count": 51,
     "metadata": {},
     "output_type": "execute_result"
    }
   ],
   "source": [
    "rng = pd.period_range('1/29/2000', periods=6, freq='D')\n",
    "Tts2 = pd.Series(np.random.randn(6), index=rng)\n",
    "Tts2"
   ]
  },
  {
   "cell_type": "code",
   "execution_count": 53,
   "metadata": {},
   "outputs": [
    {
     "data": {
      "text/plain": [
       "2000-01   -0.838640\n",
       "2000-02   -1.335152\n",
       "2000-03   -1.966839\n",
       "Freq: M, dtype: float64"
      ]
     },
     "execution_count": 53,
     "metadata": {},
     "output_type": "execute_result"
    }
   ],
   "source": [
    "ts.to_period('M')"
   ]
  },
  {
   "cell_type": "code",
   "execution_count": 54,
   "metadata": {},
   "outputs": [
    {
     "data": {
      "text/plain": [
       "2000-01   -0.838640\n",
       "2000-02   -1.335152\n",
       "2000-03   -1.966839\n",
       "Freq: M, dtype: float64"
      ]
     },
     "execution_count": 54,
     "metadata": {},
     "output_type": "execute_result"
    }
   ],
   "source": [
    "pts"
   ]
  },
  {
   "cell_type": "code",
   "execution_count": 55,
   "metadata": {},
   "outputs": [
    {
     "data": {
      "text/plain": [
       "2000-01-01   -0.838640\n",
       "2000-02-01   -1.335152\n",
       "2000-03-01   -1.966839\n",
       "Freq: MS, dtype: float64"
      ]
     },
     "execution_count": 55,
     "metadata": {},
     "output_type": "execute_result"
    }
   ],
   "source": [
    "pts.to_timestamp()"
   ]
  },
  {
   "cell_type": "code",
   "execution_count": 58,
   "metadata": {},
   "outputs": [
    {
     "data": {
      "text/plain": [
       "2000-01-31 23:59:59.999999999   -0.838640\n",
       "2000-02-29 23:59:59.999999999   -1.335152\n",
       "2000-03-31 23:59:59.999999999   -1.966839\n",
       "Freq: M, dtype: float64"
      ]
     },
     "execution_count": 58,
     "metadata": {},
     "output_type": "execute_result"
    }
   ],
   "source": [
    "pts.to_timestamp(how='end')"
   ]
  },
  {
   "cell_type": "markdown",
   "metadata": {},
   "source": [
    "# Creating PeriodIndex From Arrays"
   ]
  },
  {
   "cell_type": "code",
   "execution_count": 59,
   "metadata": {},
   "outputs": [
    {
     "data": {
      "text/html": [
       "<div>\n",
       "<style scoped>\n",
       "    .dataframe tbody tr th:only-of-type {\n",
       "        vertical-align: middle;\n",
       "    }\n",
       "\n",
       "    .dataframe tbody tr th {\n",
       "        vertical-align: top;\n",
       "    }\n",
       "\n",
       "    .dataframe thead th {\n",
       "        text-align: right;\n",
       "    }\n",
       "</style>\n",
       "<table border=\"1\" class=\"dataframe\">\n",
       "  <thead>\n",
       "    <tr style=\"text-align: right;\">\n",
       "      <th></th>\n",
       "      <th>year</th>\n",
       "      <th>quarter</th>\n",
       "      <th>realgdp</th>\n",
       "      <th>realcons</th>\n",
       "      <th>realinv</th>\n",
       "      <th>realgovt</th>\n",
       "      <th>realdpi</th>\n",
       "      <th>cpi</th>\n",
       "      <th>m1</th>\n",
       "      <th>tbilrate</th>\n",
       "      <th>unemp</th>\n",
       "      <th>pop</th>\n",
       "      <th>infl</th>\n",
       "      <th>realint</th>\n",
       "    </tr>\n",
       "  </thead>\n",
       "  <tbody>\n",
       "    <tr>\n",
       "      <th>0</th>\n",
       "      <td>1959.0</td>\n",
       "      <td>1.0</td>\n",
       "      <td>2710.349</td>\n",
       "      <td>1707.4</td>\n",
       "      <td>286.898</td>\n",
       "      <td>470.045</td>\n",
       "      <td>1886.9</td>\n",
       "      <td>28.98</td>\n",
       "      <td>139.7</td>\n",
       "      <td>2.82</td>\n",
       "      <td>5.8</td>\n",
       "      <td>177.146</td>\n",
       "      <td>0.00</td>\n",
       "      <td>0.00</td>\n",
       "    </tr>\n",
       "    <tr>\n",
       "      <th>1</th>\n",
       "      <td>1959.0</td>\n",
       "      <td>2.0</td>\n",
       "      <td>2778.801</td>\n",
       "      <td>1733.7</td>\n",
       "      <td>310.859</td>\n",
       "      <td>481.301</td>\n",
       "      <td>1919.7</td>\n",
       "      <td>29.15</td>\n",
       "      <td>141.7</td>\n",
       "      <td>3.08</td>\n",
       "      <td>5.1</td>\n",
       "      <td>177.830</td>\n",
       "      <td>2.34</td>\n",
       "      <td>0.74</td>\n",
       "    </tr>\n",
       "    <tr>\n",
       "      <th>2</th>\n",
       "      <td>1959.0</td>\n",
       "      <td>3.0</td>\n",
       "      <td>2775.488</td>\n",
       "      <td>1751.8</td>\n",
       "      <td>289.226</td>\n",
       "      <td>491.260</td>\n",
       "      <td>1916.4</td>\n",
       "      <td>29.35</td>\n",
       "      <td>140.5</td>\n",
       "      <td>3.82</td>\n",
       "      <td>5.3</td>\n",
       "      <td>178.657</td>\n",
       "      <td>2.74</td>\n",
       "      <td>1.09</td>\n",
       "    </tr>\n",
       "    <tr>\n",
       "      <th>3</th>\n",
       "      <td>1959.0</td>\n",
       "      <td>4.0</td>\n",
       "      <td>2785.204</td>\n",
       "      <td>1753.7</td>\n",
       "      <td>299.356</td>\n",
       "      <td>484.052</td>\n",
       "      <td>1931.3</td>\n",
       "      <td>29.37</td>\n",
       "      <td>140.0</td>\n",
       "      <td>4.33</td>\n",
       "      <td>5.6</td>\n",
       "      <td>179.386</td>\n",
       "      <td>0.27</td>\n",
       "      <td>4.06</td>\n",
       "    </tr>\n",
       "    <tr>\n",
       "      <th>4</th>\n",
       "      <td>1960.0</td>\n",
       "      <td>1.0</td>\n",
       "      <td>2847.699</td>\n",
       "      <td>1770.5</td>\n",
       "      <td>331.722</td>\n",
       "      <td>462.199</td>\n",
       "      <td>1955.5</td>\n",
       "      <td>29.54</td>\n",
       "      <td>139.6</td>\n",
       "      <td>3.50</td>\n",
       "      <td>5.2</td>\n",
       "      <td>180.007</td>\n",
       "      <td>2.31</td>\n",
       "      <td>1.19</td>\n",
       "    </tr>\n",
       "  </tbody>\n",
       "</table>\n",
       "</div>"
      ],
      "text/plain": [
       "     year  quarter   realgdp  realcons  realinv  realgovt  realdpi    cpi  \\\n",
       "0  1959.0      1.0  2710.349    1707.4  286.898   470.045   1886.9  28.98   \n",
       "1  1959.0      2.0  2778.801    1733.7  310.859   481.301   1919.7  29.15   \n",
       "2  1959.0      3.0  2775.488    1751.8  289.226   491.260   1916.4  29.35   \n",
       "3  1959.0      4.0  2785.204    1753.7  299.356   484.052   1931.3  29.37   \n",
       "4  1960.0      1.0  2847.699    1770.5  331.722   462.199   1955.5  29.54   \n",
       "\n",
       "      m1  tbilrate  unemp      pop  infl  realint  \n",
       "0  139.7      2.82    5.8  177.146  0.00     0.00  \n",
       "1  141.7      3.08    5.1  177.830  2.34     0.74  \n",
       "2  140.5      3.82    5.3  178.657  2.74     1.09  \n",
       "3  140.0      4.33    5.6  179.386  0.27     4.06  \n",
       "4  139.6      3.50    5.2  180.007  2.31     1.19  "
      ]
     },
     "execution_count": 59,
     "metadata": {},
     "output_type": "execute_result"
    }
   ],
   "source": [
    "data = pd.read_csv('examples/macrodata.csv')\n",
    "data.head()"
   ]
  },
  {
   "cell_type": "code",
   "execution_count": 60,
   "metadata": {},
   "outputs": [
    {
     "data": {
      "text/plain": [
       "(0      1959.0\n",
       " 1      1959.0\n",
       " 2      1959.0\n",
       " 3      1959.0\n",
       " 4      1960.0\n",
       " 5      1960.0\n",
       " 6      1960.0\n",
       " 7      1960.0\n",
       " 8      1961.0\n",
       " 9      1961.0\n",
       " 10     1961.0\n",
       " 11     1961.0\n",
       " 12     1962.0\n",
       " 13     1962.0\n",
       " 14     1962.0\n",
       " 15     1962.0\n",
       " 16     1963.0\n",
       " 17     1963.0\n",
       " 18     1963.0\n",
       " 19     1963.0\n",
       " 20     1964.0\n",
       " 21     1964.0\n",
       " 22     1964.0\n",
       " 23     1964.0\n",
       " 24     1965.0\n",
       " 25     1965.0\n",
       " 26     1965.0\n",
       " 27     1965.0\n",
       " 28     1966.0\n",
       " 29     1966.0\n",
       "         ...  \n",
       " 173    2002.0\n",
       " 174    2002.0\n",
       " 175    2002.0\n",
       " 176    2003.0\n",
       " 177    2003.0\n",
       " 178    2003.0\n",
       " 179    2003.0\n",
       " 180    2004.0\n",
       " 181    2004.0\n",
       " 182    2004.0\n",
       " 183    2004.0\n",
       " 184    2005.0\n",
       " 185    2005.0\n",
       " 186    2005.0\n",
       " 187    2005.0\n",
       " 188    2006.0\n",
       " 189    2006.0\n",
       " 190    2006.0\n",
       " 191    2006.0\n",
       " 192    2007.0\n",
       " 193    2007.0\n",
       " 194    2007.0\n",
       " 195    2007.0\n",
       " 196    2008.0\n",
       " 197    2008.0\n",
       " 198    2008.0\n",
       " 199    2008.0\n",
       " 200    2009.0\n",
       " 201    2009.0\n",
       " 202    2009.0\n",
       " Name: year, Length: 203, dtype: float64, 0      1.0\n",
       " 1      2.0\n",
       " 2      3.0\n",
       " 3      4.0\n",
       " 4      1.0\n",
       " 5      2.0\n",
       " 6      3.0\n",
       " 7      4.0\n",
       " 8      1.0\n",
       " 9      2.0\n",
       " 10     3.0\n",
       " 11     4.0\n",
       " 12     1.0\n",
       " 13     2.0\n",
       " 14     3.0\n",
       " 15     4.0\n",
       " 16     1.0\n",
       " 17     2.0\n",
       " 18     3.0\n",
       " 19     4.0\n",
       " 20     1.0\n",
       " 21     2.0\n",
       " 22     3.0\n",
       " 23     4.0\n",
       " 24     1.0\n",
       " 25     2.0\n",
       " 26     3.0\n",
       " 27     4.0\n",
       " 28     1.0\n",
       " 29     2.0\n",
       "       ... \n",
       " 173    2.0\n",
       " 174    3.0\n",
       " 175    4.0\n",
       " 176    1.0\n",
       " 177    2.0\n",
       " 178    3.0\n",
       " 179    4.0\n",
       " 180    1.0\n",
       " 181    2.0\n",
       " 182    3.0\n",
       " 183    4.0\n",
       " 184    1.0\n",
       " 185    2.0\n",
       " 186    3.0\n",
       " 187    4.0\n",
       " 188    1.0\n",
       " 189    2.0\n",
       " 190    3.0\n",
       " 191    4.0\n",
       " 192    1.0\n",
       " 193    2.0\n",
       " 194    3.0\n",
       " 195    4.0\n",
       " 196    1.0\n",
       " 197    2.0\n",
       " 198    3.0\n",
       " 199    4.0\n",
       " 200    1.0\n",
       " 201    2.0\n",
       " 202    3.0\n",
       " Name: quarter, Length: 203, dtype: float64)"
      ]
     },
     "execution_count": 60,
     "metadata": {},
     "output_type": "execute_result"
    }
   ],
   "source": [
    "data.year,data.quarter"
   ]
  },
  {
   "cell_type": "code",
   "execution_count": 61,
   "metadata": {},
   "outputs": [
    {
     "data": {
      "text/plain": [
       "PeriodIndex(['1959Q1', '1959Q2', '1959Q3', '1959Q4', '1960Q1', '1960Q2',\n",
       "             '1960Q3', '1960Q4', '1961Q1', '1961Q2',\n",
       "             ...\n",
       "             '2007Q2', '2007Q3', '2007Q4', '2008Q1', '2008Q2', '2008Q3',\n",
       "             '2008Q4', '2009Q1', '2009Q2', '2009Q3'],\n",
       "            dtype='period[Q-DEC]', length=203, freq='Q-DEC')"
      ]
     },
     "execution_count": 61,
     "metadata": {},
     "output_type": "execute_result"
    }
   ],
   "source": [
    "index = pd.PeriodIndex(year=data.year, quarter=data.quarter, freq='Q-DEC')\n",
    "index"
   ]
  },
  {
   "cell_type": "code",
   "execution_count": 63,
   "metadata": {},
   "outputs": [],
   "source": [
    "data.index = index"
   ]
  },
  {
   "cell_type": "code",
   "execution_count": 64,
   "metadata": {},
   "outputs": [
    {
     "data": {
      "text/html": [
       "<div>\n",
       "<style scoped>\n",
       "    .dataframe tbody tr th:only-of-type {\n",
       "        vertical-align: middle;\n",
       "    }\n",
       "\n",
       "    .dataframe tbody tr th {\n",
       "        vertical-align: top;\n",
       "    }\n",
       "\n",
       "    .dataframe thead th {\n",
       "        text-align: right;\n",
       "    }\n",
       "</style>\n",
       "<table border=\"1\" class=\"dataframe\">\n",
       "  <thead>\n",
       "    <tr style=\"text-align: right;\">\n",
       "      <th></th>\n",
       "      <th>year</th>\n",
       "      <th>quarter</th>\n",
       "      <th>realgdp</th>\n",
       "      <th>realcons</th>\n",
       "      <th>realinv</th>\n",
       "      <th>realgovt</th>\n",
       "      <th>realdpi</th>\n",
       "      <th>cpi</th>\n",
       "      <th>m1</th>\n",
       "      <th>tbilrate</th>\n",
       "      <th>unemp</th>\n",
       "      <th>pop</th>\n",
       "      <th>infl</th>\n",
       "      <th>realint</th>\n",
       "    </tr>\n",
       "  </thead>\n",
       "  <tbody>\n",
       "    <tr>\n",
       "      <th>1959Q1</th>\n",
       "      <td>1959.0</td>\n",
       "      <td>1.0</td>\n",
       "      <td>2710.349</td>\n",
       "      <td>1707.4</td>\n",
       "      <td>286.898</td>\n",
       "      <td>470.045</td>\n",
       "      <td>1886.9</td>\n",
       "      <td>28.980</td>\n",
       "      <td>139.7</td>\n",
       "      <td>2.82</td>\n",
       "      <td>5.8</td>\n",
       "      <td>177.146</td>\n",
       "      <td>0.00</td>\n",
       "      <td>0.00</td>\n",
       "    </tr>\n",
       "    <tr>\n",
       "      <th>1959Q2</th>\n",
       "      <td>1959.0</td>\n",
       "      <td>2.0</td>\n",
       "      <td>2778.801</td>\n",
       "      <td>1733.7</td>\n",
       "      <td>310.859</td>\n",
       "      <td>481.301</td>\n",
       "      <td>1919.7</td>\n",
       "      <td>29.150</td>\n",
       "      <td>141.7</td>\n",
       "      <td>3.08</td>\n",
       "      <td>5.1</td>\n",
       "      <td>177.830</td>\n",
       "      <td>2.34</td>\n",
       "      <td>0.74</td>\n",
       "    </tr>\n",
       "    <tr>\n",
       "      <th>1959Q3</th>\n",
       "      <td>1959.0</td>\n",
       "      <td>3.0</td>\n",
       "      <td>2775.488</td>\n",
       "      <td>1751.8</td>\n",
       "      <td>289.226</td>\n",
       "      <td>491.260</td>\n",
       "      <td>1916.4</td>\n",
       "      <td>29.350</td>\n",
       "      <td>140.5</td>\n",
       "      <td>3.82</td>\n",
       "      <td>5.3</td>\n",
       "      <td>178.657</td>\n",
       "      <td>2.74</td>\n",
       "      <td>1.09</td>\n",
       "    </tr>\n",
       "    <tr>\n",
       "      <th>1959Q4</th>\n",
       "      <td>1959.0</td>\n",
       "      <td>4.0</td>\n",
       "      <td>2785.204</td>\n",
       "      <td>1753.7</td>\n",
       "      <td>299.356</td>\n",
       "      <td>484.052</td>\n",
       "      <td>1931.3</td>\n",
       "      <td>29.370</td>\n",
       "      <td>140.0</td>\n",
       "      <td>4.33</td>\n",
       "      <td>5.6</td>\n",
       "      <td>179.386</td>\n",
       "      <td>0.27</td>\n",
       "      <td>4.06</td>\n",
       "    </tr>\n",
       "    <tr>\n",
       "      <th>1960Q1</th>\n",
       "      <td>1960.0</td>\n",
       "      <td>1.0</td>\n",
       "      <td>2847.699</td>\n",
       "      <td>1770.5</td>\n",
       "      <td>331.722</td>\n",
       "      <td>462.199</td>\n",
       "      <td>1955.5</td>\n",
       "      <td>29.540</td>\n",
       "      <td>139.6</td>\n",
       "      <td>3.50</td>\n",
       "      <td>5.2</td>\n",
       "      <td>180.007</td>\n",
       "      <td>2.31</td>\n",
       "      <td>1.19</td>\n",
       "    </tr>\n",
       "    <tr>\n",
       "      <th>1960Q2</th>\n",
       "      <td>1960.0</td>\n",
       "      <td>2.0</td>\n",
       "      <td>2834.390</td>\n",
       "      <td>1792.9</td>\n",
       "      <td>298.152</td>\n",
       "      <td>460.400</td>\n",
       "      <td>1966.1</td>\n",
       "      <td>29.550</td>\n",
       "      <td>140.2</td>\n",
       "      <td>2.68</td>\n",
       "      <td>5.2</td>\n",
       "      <td>180.671</td>\n",
       "      <td>0.14</td>\n",
       "      <td>2.55</td>\n",
       "    </tr>\n",
       "    <tr>\n",
       "      <th>1960Q3</th>\n",
       "      <td>1960.0</td>\n",
       "      <td>3.0</td>\n",
       "      <td>2839.022</td>\n",
       "      <td>1785.8</td>\n",
       "      <td>296.375</td>\n",
       "      <td>474.676</td>\n",
       "      <td>1967.8</td>\n",
       "      <td>29.750</td>\n",
       "      <td>140.9</td>\n",
       "      <td>2.36</td>\n",
       "      <td>5.6</td>\n",
       "      <td>181.528</td>\n",
       "      <td>2.70</td>\n",
       "      <td>-0.34</td>\n",
       "    </tr>\n",
       "    <tr>\n",
       "      <th>1960Q4</th>\n",
       "      <td>1960.0</td>\n",
       "      <td>4.0</td>\n",
       "      <td>2802.616</td>\n",
       "      <td>1788.2</td>\n",
       "      <td>259.764</td>\n",
       "      <td>476.434</td>\n",
       "      <td>1966.6</td>\n",
       "      <td>29.840</td>\n",
       "      <td>141.1</td>\n",
       "      <td>2.29</td>\n",
       "      <td>6.3</td>\n",
       "      <td>182.287</td>\n",
       "      <td>1.21</td>\n",
       "      <td>1.08</td>\n",
       "    </tr>\n",
       "    <tr>\n",
       "      <th>1961Q1</th>\n",
       "      <td>1961.0</td>\n",
       "      <td>1.0</td>\n",
       "      <td>2819.264</td>\n",
       "      <td>1787.7</td>\n",
       "      <td>266.405</td>\n",
       "      <td>475.854</td>\n",
       "      <td>1984.5</td>\n",
       "      <td>29.810</td>\n",
       "      <td>142.1</td>\n",
       "      <td>2.37</td>\n",
       "      <td>6.8</td>\n",
       "      <td>182.992</td>\n",
       "      <td>-0.40</td>\n",
       "      <td>2.77</td>\n",
       "    </tr>\n",
       "    <tr>\n",
       "      <th>1961Q2</th>\n",
       "      <td>1961.0</td>\n",
       "      <td>2.0</td>\n",
       "      <td>2872.005</td>\n",
       "      <td>1814.3</td>\n",
       "      <td>286.246</td>\n",
       "      <td>480.328</td>\n",
       "      <td>2014.4</td>\n",
       "      <td>29.920</td>\n",
       "      <td>142.9</td>\n",
       "      <td>2.29</td>\n",
       "      <td>7.0</td>\n",
       "      <td>183.691</td>\n",
       "      <td>1.47</td>\n",
       "      <td>0.81</td>\n",
       "    </tr>\n",
       "    <tr>\n",
       "      <th>1961Q3</th>\n",
       "      <td>1961.0</td>\n",
       "      <td>3.0</td>\n",
       "      <td>2918.419</td>\n",
       "      <td>1823.1</td>\n",
       "      <td>310.227</td>\n",
       "      <td>493.828</td>\n",
       "      <td>2041.9</td>\n",
       "      <td>29.980</td>\n",
       "      <td>144.1</td>\n",
       "      <td>2.32</td>\n",
       "      <td>6.8</td>\n",
       "      <td>184.524</td>\n",
       "      <td>0.80</td>\n",
       "      <td>1.52</td>\n",
       "    </tr>\n",
       "    <tr>\n",
       "      <th>1961Q4</th>\n",
       "      <td>1961.0</td>\n",
       "      <td>4.0</td>\n",
       "      <td>2977.830</td>\n",
       "      <td>1859.6</td>\n",
       "      <td>315.463</td>\n",
       "      <td>502.521</td>\n",
       "      <td>2082.0</td>\n",
       "      <td>30.040</td>\n",
       "      <td>145.2</td>\n",
       "      <td>2.60</td>\n",
       "      <td>6.2</td>\n",
       "      <td>185.242</td>\n",
       "      <td>0.80</td>\n",
       "      <td>1.80</td>\n",
       "    </tr>\n",
       "    <tr>\n",
       "      <th>1962Q1</th>\n",
       "      <td>1962.0</td>\n",
       "      <td>1.0</td>\n",
       "      <td>3031.241</td>\n",
       "      <td>1879.4</td>\n",
       "      <td>334.271</td>\n",
       "      <td>520.960</td>\n",
       "      <td>2101.7</td>\n",
       "      <td>30.210</td>\n",
       "      <td>146.4</td>\n",
       "      <td>2.73</td>\n",
       "      <td>5.6</td>\n",
       "      <td>185.874</td>\n",
       "      <td>2.26</td>\n",
       "      <td>0.47</td>\n",
       "    </tr>\n",
       "    <tr>\n",
       "      <th>1962Q2</th>\n",
       "      <td>1962.0</td>\n",
       "      <td>2.0</td>\n",
       "      <td>3064.709</td>\n",
       "      <td>1902.5</td>\n",
       "      <td>331.039</td>\n",
       "      <td>523.066</td>\n",
       "      <td>2125.2</td>\n",
       "      <td>30.220</td>\n",
       "      <td>146.5</td>\n",
       "      <td>2.78</td>\n",
       "      <td>5.5</td>\n",
       "      <td>186.538</td>\n",
       "      <td>0.13</td>\n",
       "      <td>2.65</td>\n",
       "    </tr>\n",
       "    <tr>\n",
       "      <th>1962Q3</th>\n",
       "      <td>1962.0</td>\n",
       "      <td>3.0</td>\n",
       "      <td>3093.047</td>\n",
       "      <td>1917.9</td>\n",
       "      <td>336.962</td>\n",
       "      <td>538.838</td>\n",
       "      <td>2137.0</td>\n",
       "      <td>30.380</td>\n",
       "      <td>146.7</td>\n",
       "      <td>2.78</td>\n",
       "      <td>5.6</td>\n",
       "      <td>187.323</td>\n",
       "      <td>2.11</td>\n",
       "      <td>0.67</td>\n",
       "    </tr>\n",
       "    <tr>\n",
       "      <th>1962Q4</th>\n",
       "      <td>1962.0</td>\n",
       "      <td>4.0</td>\n",
       "      <td>3100.563</td>\n",
       "      <td>1945.1</td>\n",
       "      <td>325.650</td>\n",
       "      <td>535.912</td>\n",
       "      <td>2154.6</td>\n",
       "      <td>30.440</td>\n",
       "      <td>148.3</td>\n",
       "      <td>2.87</td>\n",
       "      <td>5.5</td>\n",
       "      <td>188.013</td>\n",
       "      <td>0.79</td>\n",
       "      <td>2.08</td>\n",
       "    </tr>\n",
       "    <tr>\n",
       "      <th>1963Q1</th>\n",
       "      <td>1963.0</td>\n",
       "      <td>1.0</td>\n",
       "      <td>3141.087</td>\n",
       "      <td>1958.2</td>\n",
       "      <td>343.721</td>\n",
       "      <td>522.917</td>\n",
       "      <td>2172.5</td>\n",
       "      <td>30.480</td>\n",
       "      <td>149.7</td>\n",
       "      <td>2.90</td>\n",
       "      <td>5.8</td>\n",
       "      <td>188.580</td>\n",
       "      <td>0.53</td>\n",
       "      <td>2.38</td>\n",
       "    </tr>\n",
       "    <tr>\n",
       "      <th>1963Q2</th>\n",
       "      <td>1963.0</td>\n",
       "      <td>2.0</td>\n",
       "      <td>3180.447</td>\n",
       "      <td>1976.9</td>\n",
       "      <td>348.730</td>\n",
       "      <td>518.108</td>\n",
       "      <td>2193.1</td>\n",
       "      <td>30.690</td>\n",
       "      <td>151.3</td>\n",
       "      <td>3.03</td>\n",
       "      <td>5.7</td>\n",
       "      <td>189.242</td>\n",
       "      <td>2.75</td>\n",
       "      <td>0.29</td>\n",
       "    </tr>\n",
       "    <tr>\n",
       "      <th>1963Q3</th>\n",
       "      <td>1963.0</td>\n",
       "      <td>3.0</td>\n",
       "      <td>3240.332</td>\n",
       "      <td>2003.8</td>\n",
       "      <td>360.102</td>\n",
       "      <td>546.893</td>\n",
       "      <td>2217.9</td>\n",
       "      <td>30.750</td>\n",
       "      <td>152.6</td>\n",
       "      <td>3.38</td>\n",
       "      <td>5.5</td>\n",
       "      <td>190.028</td>\n",
       "      <td>0.78</td>\n",
       "      <td>2.60</td>\n",
       "    </tr>\n",
       "    <tr>\n",
       "      <th>1963Q4</th>\n",
       "      <td>1963.0</td>\n",
       "      <td>4.0</td>\n",
       "      <td>3264.967</td>\n",
       "      <td>2020.6</td>\n",
       "      <td>364.534</td>\n",
       "      <td>532.383</td>\n",
       "      <td>2254.6</td>\n",
       "      <td>30.940</td>\n",
       "      <td>153.7</td>\n",
       "      <td>3.52</td>\n",
       "      <td>5.6</td>\n",
       "      <td>190.668</td>\n",
       "      <td>2.46</td>\n",
       "      <td>1.06</td>\n",
       "    </tr>\n",
       "    <tr>\n",
       "      <th>1964Q1</th>\n",
       "      <td>1964.0</td>\n",
       "      <td>1.0</td>\n",
       "      <td>3338.246</td>\n",
       "      <td>2060.5</td>\n",
       "      <td>379.523</td>\n",
       "      <td>529.686</td>\n",
       "      <td>2299.6</td>\n",
       "      <td>30.950</td>\n",
       "      <td>154.8</td>\n",
       "      <td>3.51</td>\n",
       "      <td>5.5</td>\n",
       "      <td>191.245</td>\n",
       "      <td>0.13</td>\n",
       "      <td>3.38</td>\n",
       "    </tr>\n",
       "    <tr>\n",
       "      <th>1964Q2</th>\n",
       "      <td>1964.0</td>\n",
       "      <td>2.0</td>\n",
       "      <td>3376.587</td>\n",
       "      <td>2096.7</td>\n",
       "      <td>377.778</td>\n",
       "      <td>526.175</td>\n",
       "      <td>2362.1</td>\n",
       "      <td>31.020</td>\n",
       "      <td>156.8</td>\n",
       "      <td>3.47</td>\n",
       "      <td>5.2</td>\n",
       "      <td>191.889</td>\n",
       "      <td>0.90</td>\n",
       "      <td>2.57</td>\n",
       "    </tr>\n",
       "    <tr>\n",
       "      <th>1964Q3</th>\n",
       "      <td>1964.0</td>\n",
       "      <td>3.0</td>\n",
       "      <td>3422.469</td>\n",
       "      <td>2135.2</td>\n",
       "      <td>386.754</td>\n",
       "      <td>522.008</td>\n",
       "      <td>2392.7</td>\n",
       "      <td>31.120</td>\n",
       "      <td>159.2</td>\n",
       "      <td>3.53</td>\n",
       "      <td>5.0</td>\n",
       "      <td>192.631</td>\n",
       "      <td>1.29</td>\n",
       "      <td>2.25</td>\n",
       "    </tr>\n",
       "    <tr>\n",
       "      <th>1964Q4</th>\n",
       "      <td>1964.0</td>\n",
       "      <td>4.0</td>\n",
       "      <td>3431.957</td>\n",
       "      <td>2141.2</td>\n",
       "      <td>389.910</td>\n",
       "      <td>514.603</td>\n",
       "      <td>2420.4</td>\n",
       "      <td>31.280</td>\n",
       "      <td>160.7</td>\n",
       "      <td>3.76</td>\n",
       "      <td>5.0</td>\n",
       "      <td>193.223</td>\n",
       "      <td>2.05</td>\n",
       "      <td>1.71</td>\n",
       "    </tr>\n",
       "    <tr>\n",
       "      <th>1965Q1</th>\n",
       "      <td>1965.0</td>\n",
       "      <td>1.0</td>\n",
       "      <td>3516.251</td>\n",
       "      <td>2188.8</td>\n",
       "      <td>429.145</td>\n",
       "      <td>508.006</td>\n",
       "      <td>2447.4</td>\n",
       "      <td>31.380</td>\n",
       "      <td>162.0</td>\n",
       "      <td>3.93</td>\n",
       "      <td>4.9</td>\n",
       "      <td>193.709</td>\n",
       "      <td>1.28</td>\n",
       "      <td>2.65</td>\n",
       "    </tr>\n",
       "    <tr>\n",
       "      <th>1965Q2</th>\n",
       "      <td>1965.0</td>\n",
       "      <td>2.0</td>\n",
       "      <td>3563.960</td>\n",
       "      <td>2213.0</td>\n",
       "      <td>429.119</td>\n",
       "      <td>508.931</td>\n",
       "      <td>2474.5</td>\n",
       "      <td>31.580</td>\n",
       "      <td>163.1</td>\n",
       "      <td>3.84</td>\n",
       "      <td>4.7</td>\n",
       "      <td>194.303</td>\n",
       "      <td>2.54</td>\n",
       "      <td>1.30</td>\n",
       "    </tr>\n",
       "    <tr>\n",
       "      <th>1965Q3</th>\n",
       "      <td>1965.0</td>\n",
       "      <td>3.0</td>\n",
       "      <td>3636.285</td>\n",
       "      <td>2251.0</td>\n",
       "      <td>444.444</td>\n",
       "      <td>529.446</td>\n",
       "      <td>2542.6</td>\n",
       "      <td>31.650</td>\n",
       "      <td>166.0</td>\n",
       "      <td>3.93</td>\n",
       "      <td>4.4</td>\n",
       "      <td>194.997</td>\n",
       "      <td>0.89</td>\n",
       "      <td>3.04</td>\n",
       "    </tr>\n",
       "    <tr>\n",
       "      <th>1965Q4</th>\n",
       "      <td>1965.0</td>\n",
       "      <td>4.0</td>\n",
       "      <td>3724.014</td>\n",
       "      <td>2314.3</td>\n",
       "      <td>446.493</td>\n",
       "      <td>544.121</td>\n",
       "      <td>2594.1</td>\n",
       "      <td>31.880</td>\n",
       "      <td>169.1</td>\n",
       "      <td>4.35</td>\n",
       "      <td>4.1</td>\n",
       "      <td>195.539</td>\n",
       "      <td>2.90</td>\n",
       "      <td>1.46</td>\n",
       "    </tr>\n",
       "    <tr>\n",
       "      <th>1966Q1</th>\n",
       "      <td>1966.0</td>\n",
       "      <td>1.0</td>\n",
       "      <td>3815.423</td>\n",
       "      <td>2348.5</td>\n",
       "      <td>484.244</td>\n",
       "      <td>556.593</td>\n",
       "      <td>2618.4</td>\n",
       "      <td>32.280</td>\n",
       "      <td>171.8</td>\n",
       "      <td>4.62</td>\n",
       "      <td>3.9</td>\n",
       "      <td>195.999</td>\n",
       "      <td>4.99</td>\n",
       "      <td>-0.37</td>\n",
       "    </tr>\n",
       "    <tr>\n",
       "      <th>1966Q2</th>\n",
       "      <td>1966.0</td>\n",
       "      <td>2.0</td>\n",
       "      <td>3828.124</td>\n",
       "      <td>2354.5</td>\n",
       "      <td>475.408</td>\n",
       "      <td>571.371</td>\n",
       "      <td>2624.7</td>\n",
       "      <td>32.450</td>\n",
       "      <td>170.3</td>\n",
       "      <td>4.65</td>\n",
       "      <td>3.8</td>\n",
       "      <td>196.560</td>\n",
       "      <td>2.10</td>\n",
       "      <td>2.55</td>\n",
       "    </tr>\n",
       "    <tr>\n",
       "      <th>...</th>\n",
       "      <td>...</td>\n",
       "      <td>...</td>\n",
       "      <td>...</td>\n",
       "      <td>...</td>\n",
       "      <td>...</td>\n",
       "      <td>...</td>\n",
       "      <td>...</td>\n",
       "      <td>...</td>\n",
       "      <td>...</td>\n",
       "      <td>...</td>\n",
       "      <td>...</td>\n",
       "      <td>...</td>\n",
       "      <td>...</td>\n",
       "      <td>...</td>\n",
       "    </tr>\n",
       "    <tr>\n",
       "      <th>2002Q2</th>\n",
       "      <td>2002.0</td>\n",
       "      <td>2.0</td>\n",
       "      <td>11538.770</td>\n",
       "      <td>7997.8</td>\n",
       "      <td>1810.779</td>\n",
       "      <td>774.408</td>\n",
       "      <td>8658.9</td>\n",
       "      <td>180.000</td>\n",
       "      <td>1199.5</td>\n",
       "      <td>1.70</td>\n",
       "      <td>5.8</td>\n",
       "      <td>288.028</td>\n",
       "      <td>1.56</td>\n",
       "      <td>0.14</td>\n",
       "    </tr>\n",
       "    <tr>\n",
       "      <th>2002Q3</th>\n",
       "      <td>2002.0</td>\n",
       "      <td>3.0</td>\n",
       "      <td>11596.430</td>\n",
       "      <td>8052.0</td>\n",
       "      <td>1814.531</td>\n",
       "      <td>786.673</td>\n",
       "      <td>8629.2</td>\n",
       "      <td>181.200</td>\n",
       "      <td>1204.0</td>\n",
       "      <td>1.61</td>\n",
       "      <td>5.7</td>\n",
       "      <td>288.783</td>\n",
       "      <td>2.66</td>\n",
       "      <td>-1.05</td>\n",
       "    </tr>\n",
       "    <tr>\n",
       "      <th>2002Q4</th>\n",
       "      <td>2002.0</td>\n",
       "      <td>4.0</td>\n",
       "      <td>11598.824</td>\n",
       "      <td>8080.6</td>\n",
       "      <td>1813.219</td>\n",
       "      <td>799.967</td>\n",
       "      <td>8649.6</td>\n",
       "      <td>182.600</td>\n",
       "      <td>1226.8</td>\n",
       "      <td>1.20</td>\n",
       "      <td>5.8</td>\n",
       "      <td>289.421</td>\n",
       "      <td>3.08</td>\n",
       "      <td>-1.88</td>\n",
       "    </tr>\n",
       "    <tr>\n",
       "      <th>2003Q1</th>\n",
       "      <td>2003.0</td>\n",
       "      <td>1.0</td>\n",
       "      <td>11645.819</td>\n",
       "      <td>8122.3</td>\n",
       "      <td>1813.141</td>\n",
       "      <td>800.196</td>\n",
       "      <td>8681.3</td>\n",
       "      <td>183.200</td>\n",
       "      <td>1248.4</td>\n",
       "      <td>1.14</td>\n",
       "      <td>5.9</td>\n",
       "      <td>290.019</td>\n",
       "      <td>1.31</td>\n",
       "      <td>-0.17</td>\n",
       "    </tr>\n",
       "    <tr>\n",
       "      <th>2003Q2</th>\n",
       "      <td>2003.0</td>\n",
       "      <td>2.0</td>\n",
       "      <td>11738.706</td>\n",
       "      <td>8197.8</td>\n",
       "      <td>1823.698</td>\n",
       "      <td>838.775</td>\n",
       "      <td>8812.5</td>\n",
       "      <td>183.700</td>\n",
       "      <td>1287.9</td>\n",
       "      <td>0.96</td>\n",
       "      <td>6.2</td>\n",
       "      <td>290.704</td>\n",
       "      <td>1.09</td>\n",
       "      <td>-0.13</td>\n",
       "    </tr>\n",
       "    <tr>\n",
       "      <th>2003Q3</th>\n",
       "      <td>2003.0</td>\n",
       "      <td>3.0</td>\n",
       "      <td>11935.461</td>\n",
       "      <td>8312.1</td>\n",
       "      <td>1889.883</td>\n",
       "      <td>839.598</td>\n",
       "      <td>8935.4</td>\n",
       "      <td>184.900</td>\n",
       "      <td>1297.3</td>\n",
       "      <td>0.94</td>\n",
       "      <td>6.1</td>\n",
       "      <td>291.449</td>\n",
       "      <td>2.60</td>\n",
       "      <td>-1.67</td>\n",
       "    </tr>\n",
       "    <tr>\n",
       "      <th>2003Q4</th>\n",
       "      <td>2003.0</td>\n",
       "      <td>4.0</td>\n",
       "      <td>12042.817</td>\n",
       "      <td>8358.0</td>\n",
       "      <td>1959.783</td>\n",
       "      <td>845.722</td>\n",
       "      <td>8986.4</td>\n",
       "      <td>186.300</td>\n",
       "      <td>1306.1</td>\n",
       "      <td>0.90</td>\n",
       "      <td>5.8</td>\n",
       "      <td>292.057</td>\n",
       "      <td>3.02</td>\n",
       "      <td>-2.11</td>\n",
       "    </tr>\n",
       "    <tr>\n",
       "      <th>2004Q1</th>\n",
       "      <td>2004.0</td>\n",
       "      <td>1.0</td>\n",
       "      <td>12127.623</td>\n",
       "      <td>8437.6</td>\n",
       "      <td>1970.015</td>\n",
       "      <td>856.570</td>\n",
       "      <td>9025.9</td>\n",
       "      <td>187.400</td>\n",
       "      <td>1332.1</td>\n",
       "      <td>0.94</td>\n",
       "      <td>5.7</td>\n",
       "      <td>292.635</td>\n",
       "      <td>2.35</td>\n",
       "      <td>-1.42</td>\n",
       "    </tr>\n",
       "    <tr>\n",
       "      <th>2004Q2</th>\n",
       "      <td>2004.0</td>\n",
       "      <td>2.0</td>\n",
       "      <td>12213.818</td>\n",
       "      <td>8483.2</td>\n",
       "      <td>2055.580</td>\n",
       "      <td>861.440</td>\n",
       "      <td>9115.0</td>\n",
       "      <td>189.100</td>\n",
       "      <td>1340.5</td>\n",
       "      <td>1.21</td>\n",
       "      <td>5.6</td>\n",
       "      <td>293.310</td>\n",
       "      <td>3.61</td>\n",
       "      <td>-2.41</td>\n",
       "    </tr>\n",
       "    <tr>\n",
       "      <th>2004Q3</th>\n",
       "      <td>2004.0</td>\n",
       "      <td>3.0</td>\n",
       "      <td>12303.533</td>\n",
       "      <td>8555.8</td>\n",
       "      <td>2082.231</td>\n",
       "      <td>876.385</td>\n",
       "      <td>9175.9</td>\n",
       "      <td>190.800</td>\n",
       "      <td>1361.0</td>\n",
       "      <td>1.63</td>\n",
       "      <td>5.4</td>\n",
       "      <td>294.066</td>\n",
       "      <td>3.58</td>\n",
       "      <td>-1.95</td>\n",
       "    </tr>\n",
       "    <tr>\n",
       "      <th>2004Q4</th>\n",
       "      <td>2004.0</td>\n",
       "      <td>4.0</td>\n",
       "      <td>12410.282</td>\n",
       "      <td>8654.2</td>\n",
       "      <td>2125.152</td>\n",
       "      <td>865.596</td>\n",
       "      <td>9303.4</td>\n",
       "      <td>191.800</td>\n",
       "      <td>1366.6</td>\n",
       "      <td>2.20</td>\n",
       "      <td>5.4</td>\n",
       "      <td>294.741</td>\n",
       "      <td>2.09</td>\n",
       "      <td>0.11</td>\n",
       "    </tr>\n",
       "    <tr>\n",
       "      <th>2005Q1</th>\n",
       "      <td>2005.0</td>\n",
       "      <td>1.0</td>\n",
       "      <td>12534.113</td>\n",
       "      <td>8719.0</td>\n",
       "      <td>2170.299</td>\n",
       "      <td>869.204</td>\n",
       "      <td>9189.6</td>\n",
       "      <td>193.800</td>\n",
       "      <td>1357.8</td>\n",
       "      <td>2.69</td>\n",
       "      <td>5.3</td>\n",
       "      <td>295.308</td>\n",
       "      <td>4.15</td>\n",
       "      <td>-1.46</td>\n",
       "    </tr>\n",
       "    <tr>\n",
       "      <th>2005Q2</th>\n",
       "      <td>2005.0</td>\n",
       "      <td>2.0</td>\n",
       "      <td>12587.535</td>\n",
       "      <td>8802.9</td>\n",
       "      <td>2131.468</td>\n",
       "      <td>870.044</td>\n",
       "      <td>9253.0</td>\n",
       "      <td>194.700</td>\n",
       "      <td>1366.6</td>\n",
       "      <td>3.01</td>\n",
       "      <td>5.1</td>\n",
       "      <td>295.994</td>\n",
       "      <td>1.85</td>\n",
       "      <td>1.16</td>\n",
       "    </tr>\n",
       "    <tr>\n",
       "      <th>2005Q3</th>\n",
       "      <td>2005.0</td>\n",
       "      <td>3.0</td>\n",
       "      <td>12683.153</td>\n",
       "      <td>8865.6</td>\n",
       "      <td>2154.949</td>\n",
       "      <td>890.394</td>\n",
       "      <td>9308.0</td>\n",
       "      <td>199.200</td>\n",
       "      <td>1375.0</td>\n",
       "      <td>3.52</td>\n",
       "      <td>5.0</td>\n",
       "      <td>296.770</td>\n",
       "      <td>9.14</td>\n",
       "      <td>-5.62</td>\n",
       "    </tr>\n",
       "    <tr>\n",
       "      <th>2005Q4</th>\n",
       "      <td>2005.0</td>\n",
       "      <td>4.0</td>\n",
       "      <td>12748.699</td>\n",
       "      <td>8888.5</td>\n",
       "      <td>2232.193</td>\n",
       "      <td>875.557</td>\n",
       "      <td>9358.7</td>\n",
       "      <td>199.400</td>\n",
       "      <td>1380.6</td>\n",
       "      <td>4.00</td>\n",
       "      <td>4.9</td>\n",
       "      <td>297.435</td>\n",
       "      <td>0.40</td>\n",
       "      <td>3.60</td>\n",
       "    </tr>\n",
       "    <tr>\n",
       "      <th>2006Q1</th>\n",
       "      <td>2006.0</td>\n",
       "      <td>1.0</td>\n",
       "      <td>12915.938</td>\n",
       "      <td>8986.6</td>\n",
       "      <td>2264.721</td>\n",
       "      <td>900.511</td>\n",
       "      <td>9533.8</td>\n",
       "      <td>200.700</td>\n",
       "      <td>1380.5</td>\n",
       "      <td>4.51</td>\n",
       "      <td>4.7</td>\n",
       "      <td>298.061</td>\n",
       "      <td>2.60</td>\n",
       "      <td>1.91</td>\n",
       "    </tr>\n",
       "    <tr>\n",
       "      <th>2006Q2</th>\n",
       "      <td>2006.0</td>\n",
       "      <td>2.0</td>\n",
       "      <td>12962.462</td>\n",
       "      <td>9035.0</td>\n",
       "      <td>2261.247</td>\n",
       "      <td>892.839</td>\n",
       "      <td>9617.3</td>\n",
       "      <td>202.700</td>\n",
       "      <td>1369.2</td>\n",
       "      <td>4.82</td>\n",
       "      <td>4.7</td>\n",
       "      <td>298.766</td>\n",
       "      <td>3.97</td>\n",
       "      <td>0.85</td>\n",
       "    </tr>\n",
       "    <tr>\n",
       "      <th>2006Q3</th>\n",
       "      <td>2006.0</td>\n",
       "      <td>3.0</td>\n",
       "      <td>12965.916</td>\n",
       "      <td>9090.7</td>\n",
       "      <td>2229.636</td>\n",
       "      <td>892.002</td>\n",
       "      <td>9662.5</td>\n",
       "      <td>201.900</td>\n",
       "      <td>1369.4</td>\n",
       "      <td>4.90</td>\n",
       "      <td>4.7</td>\n",
       "      <td>299.593</td>\n",
       "      <td>-1.58</td>\n",
       "      <td>6.48</td>\n",
       "    </tr>\n",
       "    <tr>\n",
       "      <th>2006Q4</th>\n",
       "      <td>2006.0</td>\n",
       "      <td>4.0</td>\n",
       "      <td>13060.679</td>\n",
       "      <td>9181.6</td>\n",
       "      <td>2165.966</td>\n",
       "      <td>894.404</td>\n",
       "      <td>9788.8</td>\n",
       "      <td>203.574</td>\n",
       "      <td>1373.6</td>\n",
       "      <td>4.92</td>\n",
       "      <td>4.4</td>\n",
       "      <td>300.320</td>\n",
       "      <td>3.30</td>\n",
       "      <td>1.62</td>\n",
       "    </tr>\n",
       "    <tr>\n",
       "      <th>2007Q1</th>\n",
       "      <td>2007.0</td>\n",
       "      <td>1.0</td>\n",
       "      <td>13099.901</td>\n",
       "      <td>9265.1</td>\n",
       "      <td>2132.609</td>\n",
       "      <td>882.766</td>\n",
       "      <td>9830.2</td>\n",
       "      <td>205.920</td>\n",
       "      <td>1379.7</td>\n",
       "      <td>4.95</td>\n",
       "      <td>4.5</td>\n",
       "      <td>300.977</td>\n",
       "      <td>4.58</td>\n",
       "      <td>0.36</td>\n",
       "    </tr>\n",
       "    <tr>\n",
       "      <th>2007Q2</th>\n",
       "      <td>2007.0</td>\n",
       "      <td>2.0</td>\n",
       "      <td>13203.977</td>\n",
       "      <td>9291.5</td>\n",
       "      <td>2162.214</td>\n",
       "      <td>898.713</td>\n",
       "      <td>9842.7</td>\n",
       "      <td>207.338</td>\n",
       "      <td>1370.0</td>\n",
       "      <td>4.72</td>\n",
       "      <td>4.5</td>\n",
       "      <td>301.714</td>\n",
       "      <td>2.75</td>\n",
       "      <td>1.97</td>\n",
       "    </tr>\n",
       "    <tr>\n",
       "      <th>2007Q3</th>\n",
       "      <td>2007.0</td>\n",
       "      <td>3.0</td>\n",
       "      <td>13321.109</td>\n",
       "      <td>9335.6</td>\n",
       "      <td>2166.491</td>\n",
       "      <td>918.983</td>\n",
       "      <td>9883.9</td>\n",
       "      <td>209.133</td>\n",
       "      <td>1379.2</td>\n",
       "      <td>4.00</td>\n",
       "      <td>4.7</td>\n",
       "      <td>302.509</td>\n",
       "      <td>3.45</td>\n",
       "      <td>0.55</td>\n",
       "    </tr>\n",
       "    <tr>\n",
       "      <th>2007Q4</th>\n",
       "      <td>2007.0</td>\n",
       "      <td>4.0</td>\n",
       "      <td>13391.249</td>\n",
       "      <td>9363.6</td>\n",
       "      <td>2123.426</td>\n",
       "      <td>925.110</td>\n",
       "      <td>9886.2</td>\n",
       "      <td>212.495</td>\n",
       "      <td>1377.4</td>\n",
       "      <td>3.01</td>\n",
       "      <td>4.8</td>\n",
       "      <td>303.204</td>\n",
       "      <td>6.38</td>\n",
       "      <td>-3.37</td>\n",
       "    </tr>\n",
       "    <tr>\n",
       "      <th>2008Q1</th>\n",
       "      <td>2008.0</td>\n",
       "      <td>1.0</td>\n",
       "      <td>13366.865</td>\n",
       "      <td>9349.6</td>\n",
       "      <td>2082.886</td>\n",
       "      <td>943.372</td>\n",
       "      <td>9826.8</td>\n",
       "      <td>213.997</td>\n",
       "      <td>1384.0</td>\n",
       "      <td>1.56</td>\n",
       "      <td>4.9</td>\n",
       "      <td>303.803</td>\n",
       "      <td>2.82</td>\n",
       "      <td>-1.26</td>\n",
       "    </tr>\n",
       "    <tr>\n",
       "      <th>2008Q2</th>\n",
       "      <td>2008.0</td>\n",
       "      <td>2.0</td>\n",
       "      <td>13415.266</td>\n",
       "      <td>9351.0</td>\n",
       "      <td>2026.518</td>\n",
       "      <td>961.280</td>\n",
       "      <td>10059.0</td>\n",
       "      <td>218.610</td>\n",
       "      <td>1409.3</td>\n",
       "      <td>1.74</td>\n",
       "      <td>5.4</td>\n",
       "      <td>304.483</td>\n",
       "      <td>8.53</td>\n",
       "      <td>-6.79</td>\n",
       "    </tr>\n",
       "    <tr>\n",
       "      <th>2008Q3</th>\n",
       "      <td>2008.0</td>\n",
       "      <td>3.0</td>\n",
       "      <td>13324.600</td>\n",
       "      <td>9267.7</td>\n",
       "      <td>1990.693</td>\n",
       "      <td>991.551</td>\n",
       "      <td>9838.3</td>\n",
       "      <td>216.889</td>\n",
       "      <td>1474.7</td>\n",
       "      <td>1.17</td>\n",
       "      <td>6.0</td>\n",
       "      <td>305.270</td>\n",
       "      <td>-3.16</td>\n",
       "      <td>4.33</td>\n",
       "    </tr>\n",
       "    <tr>\n",
       "      <th>2008Q4</th>\n",
       "      <td>2008.0</td>\n",
       "      <td>4.0</td>\n",
       "      <td>13141.920</td>\n",
       "      <td>9195.3</td>\n",
       "      <td>1857.661</td>\n",
       "      <td>1007.273</td>\n",
       "      <td>9920.4</td>\n",
       "      <td>212.174</td>\n",
       "      <td>1576.5</td>\n",
       "      <td>0.12</td>\n",
       "      <td>6.9</td>\n",
       "      <td>305.952</td>\n",
       "      <td>-8.79</td>\n",
       "      <td>8.91</td>\n",
       "    </tr>\n",
       "    <tr>\n",
       "      <th>2009Q1</th>\n",
       "      <td>2009.0</td>\n",
       "      <td>1.0</td>\n",
       "      <td>12925.410</td>\n",
       "      <td>9209.2</td>\n",
       "      <td>1558.494</td>\n",
       "      <td>996.287</td>\n",
       "      <td>9926.4</td>\n",
       "      <td>212.671</td>\n",
       "      <td>1592.8</td>\n",
       "      <td>0.22</td>\n",
       "      <td>8.1</td>\n",
       "      <td>306.547</td>\n",
       "      <td>0.94</td>\n",
       "      <td>-0.71</td>\n",
       "    </tr>\n",
       "    <tr>\n",
       "      <th>2009Q2</th>\n",
       "      <td>2009.0</td>\n",
       "      <td>2.0</td>\n",
       "      <td>12901.504</td>\n",
       "      <td>9189.0</td>\n",
       "      <td>1456.678</td>\n",
       "      <td>1023.528</td>\n",
       "      <td>10077.5</td>\n",
       "      <td>214.469</td>\n",
       "      <td>1653.6</td>\n",
       "      <td>0.18</td>\n",
       "      <td>9.2</td>\n",
       "      <td>307.226</td>\n",
       "      <td>3.37</td>\n",
       "      <td>-3.19</td>\n",
       "    </tr>\n",
       "    <tr>\n",
       "      <th>2009Q3</th>\n",
       "      <td>2009.0</td>\n",
       "      <td>3.0</td>\n",
       "      <td>12990.341</td>\n",
       "      <td>9256.0</td>\n",
       "      <td>1486.398</td>\n",
       "      <td>1044.088</td>\n",
       "      <td>10040.6</td>\n",
       "      <td>216.385</td>\n",
       "      <td>1673.9</td>\n",
       "      <td>0.12</td>\n",
       "      <td>9.6</td>\n",
       "      <td>308.013</td>\n",
       "      <td>3.56</td>\n",
       "      <td>-3.44</td>\n",
       "    </tr>\n",
       "  </tbody>\n",
       "</table>\n",
       "<p>203 rows × 14 columns</p>\n",
       "</div>"
      ],
      "text/plain": [
       "          year  quarter    realgdp  realcons   realinv  realgovt  realdpi  \\\n",
       "1959Q1  1959.0      1.0   2710.349    1707.4   286.898   470.045   1886.9   \n",
       "1959Q2  1959.0      2.0   2778.801    1733.7   310.859   481.301   1919.7   \n",
       "1959Q3  1959.0      3.0   2775.488    1751.8   289.226   491.260   1916.4   \n",
       "1959Q4  1959.0      4.0   2785.204    1753.7   299.356   484.052   1931.3   \n",
       "1960Q1  1960.0      1.0   2847.699    1770.5   331.722   462.199   1955.5   \n",
       "1960Q2  1960.0      2.0   2834.390    1792.9   298.152   460.400   1966.1   \n",
       "1960Q3  1960.0      3.0   2839.022    1785.8   296.375   474.676   1967.8   \n",
       "1960Q4  1960.0      4.0   2802.616    1788.2   259.764   476.434   1966.6   \n",
       "1961Q1  1961.0      1.0   2819.264    1787.7   266.405   475.854   1984.5   \n",
       "1961Q2  1961.0      2.0   2872.005    1814.3   286.246   480.328   2014.4   \n",
       "1961Q3  1961.0      3.0   2918.419    1823.1   310.227   493.828   2041.9   \n",
       "1961Q4  1961.0      4.0   2977.830    1859.6   315.463   502.521   2082.0   \n",
       "1962Q1  1962.0      1.0   3031.241    1879.4   334.271   520.960   2101.7   \n",
       "1962Q2  1962.0      2.0   3064.709    1902.5   331.039   523.066   2125.2   \n",
       "1962Q3  1962.0      3.0   3093.047    1917.9   336.962   538.838   2137.0   \n",
       "1962Q4  1962.0      4.0   3100.563    1945.1   325.650   535.912   2154.6   \n",
       "1963Q1  1963.0      1.0   3141.087    1958.2   343.721   522.917   2172.5   \n",
       "1963Q2  1963.0      2.0   3180.447    1976.9   348.730   518.108   2193.1   \n",
       "1963Q3  1963.0      3.0   3240.332    2003.8   360.102   546.893   2217.9   \n",
       "1963Q4  1963.0      4.0   3264.967    2020.6   364.534   532.383   2254.6   \n",
       "1964Q1  1964.0      1.0   3338.246    2060.5   379.523   529.686   2299.6   \n",
       "1964Q2  1964.0      2.0   3376.587    2096.7   377.778   526.175   2362.1   \n",
       "1964Q3  1964.0      3.0   3422.469    2135.2   386.754   522.008   2392.7   \n",
       "1964Q4  1964.0      4.0   3431.957    2141.2   389.910   514.603   2420.4   \n",
       "1965Q1  1965.0      1.0   3516.251    2188.8   429.145   508.006   2447.4   \n",
       "1965Q2  1965.0      2.0   3563.960    2213.0   429.119   508.931   2474.5   \n",
       "1965Q3  1965.0      3.0   3636.285    2251.0   444.444   529.446   2542.6   \n",
       "1965Q4  1965.0      4.0   3724.014    2314.3   446.493   544.121   2594.1   \n",
       "1966Q1  1966.0      1.0   3815.423    2348.5   484.244   556.593   2618.4   \n",
       "1966Q2  1966.0      2.0   3828.124    2354.5   475.408   571.371   2624.7   \n",
       "...        ...      ...        ...       ...       ...       ...      ...   \n",
       "2002Q2  2002.0      2.0  11538.770    7997.8  1810.779   774.408   8658.9   \n",
       "2002Q3  2002.0      3.0  11596.430    8052.0  1814.531   786.673   8629.2   \n",
       "2002Q4  2002.0      4.0  11598.824    8080.6  1813.219   799.967   8649.6   \n",
       "2003Q1  2003.0      1.0  11645.819    8122.3  1813.141   800.196   8681.3   \n",
       "2003Q2  2003.0      2.0  11738.706    8197.8  1823.698   838.775   8812.5   \n",
       "2003Q3  2003.0      3.0  11935.461    8312.1  1889.883   839.598   8935.4   \n",
       "2003Q4  2003.0      4.0  12042.817    8358.0  1959.783   845.722   8986.4   \n",
       "2004Q1  2004.0      1.0  12127.623    8437.6  1970.015   856.570   9025.9   \n",
       "2004Q2  2004.0      2.0  12213.818    8483.2  2055.580   861.440   9115.0   \n",
       "2004Q3  2004.0      3.0  12303.533    8555.8  2082.231   876.385   9175.9   \n",
       "2004Q4  2004.0      4.0  12410.282    8654.2  2125.152   865.596   9303.4   \n",
       "2005Q1  2005.0      1.0  12534.113    8719.0  2170.299   869.204   9189.6   \n",
       "2005Q2  2005.0      2.0  12587.535    8802.9  2131.468   870.044   9253.0   \n",
       "2005Q3  2005.0      3.0  12683.153    8865.6  2154.949   890.394   9308.0   \n",
       "2005Q4  2005.0      4.0  12748.699    8888.5  2232.193   875.557   9358.7   \n",
       "2006Q1  2006.0      1.0  12915.938    8986.6  2264.721   900.511   9533.8   \n",
       "2006Q2  2006.0      2.0  12962.462    9035.0  2261.247   892.839   9617.3   \n",
       "2006Q3  2006.0      3.0  12965.916    9090.7  2229.636   892.002   9662.5   \n",
       "2006Q4  2006.0      4.0  13060.679    9181.6  2165.966   894.404   9788.8   \n",
       "2007Q1  2007.0      1.0  13099.901    9265.1  2132.609   882.766   9830.2   \n",
       "2007Q2  2007.0      2.0  13203.977    9291.5  2162.214   898.713   9842.7   \n",
       "2007Q3  2007.0      3.0  13321.109    9335.6  2166.491   918.983   9883.9   \n",
       "2007Q4  2007.0      4.0  13391.249    9363.6  2123.426   925.110   9886.2   \n",
       "2008Q1  2008.0      1.0  13366.865    9349.6  2082.886   943.372   9826.8   \n",
       "2008Q2  2008.0      2.0  13415.266    9351.0  2026.518   961.280  10059.0   \n",
       "2008Q3  2008.0      3.0  13324.600    9267.7  1990.693   991.551   9838.3   \n",
       "2008Q4  2008.0      4.0  13141.920    9195.3  1857.661  1007.273   9920.4   \n",
       "2009Q1  2009.0      1.0  12925.410    9209.2  1558.494   996.287   9926.4   \n",
       "2009Q2  2009.0      2.0  12901.504    9189.0  1456.678  1023.528  10077.5   \n",
       "2009Q3  2009.0      3.0  12990.341    9256.0  1486.398  1044.088  10040.6   \n",
       "\n",
       "            cpi      m1  tbilrate  unemp      pop  infl  realint  \n",
       "1959Q1   28.980   139.7      2.82    5.8  177.146  0.00     0.00  \n",
       "1959Q2   29.150   141.7      3.08    5.1  177.830  2.34     0.74  \n",
       "1959Q3   29.350   140.5      3.82    5.3  178.657  2.74     1.09  \n",
       "1959Q4   29.370   140.0      4.33    5.6  179.386  0.27     4.06  \n",
       "1960Q1   29.540   139.6      3.50    5.2  180.007  2.31     1.19  \n",
       "1960Q2   29.550   140.2      2.68    5.2  180.671  0.14     2.55  \n",
       "1960Q3   29.750   140.9      2.36    5.6  181.528  2.70    -0.34  \n",
       "1960Q4   29.840   141.1      2.29    6.3  182.287  1.21     1.08  \n",
       "1961Q1   29.810   142.1      2.37    6.8  182.992 -0.40     2.77  \n",
       "1961Q2   29.920   142.9      2.29    7.0  183.691  1.47     0.81  \n",
       "1961Q3   29.980   144.1      2.32    6.8  184.524  0.80     1.52  \n",
       "1961Q4   30.040   145.2      2.60    6.2  185.242  0.80     1.80  \n",
       "1962Q1   30.210   146.4      2.73    5.6  185.874  2.26     0.47  \n",
       "1962Q2   30.220   146.5      2.78    5.5  186.538  0.13     2.65  \n",
       "1962Q3   30.380   146.7      2.78    5.6  187.323  2.11     0.67  \n",
       "1962Q4   30.440   148.3      2.87    5.5  188.013  0.79     2.08  \n",
       "1963Q1   30.480   149.7      2.90    5.8  188.580  0.53     2.38  \n",
       "1963Q2   30.690   151.3      3.03    5.7  189.242  2.75     0.29  \n",
       "1963Q3   30.750   152.6      3.38    5.5  190.028  0.78     2.60  \n",
       "1963Q4   30.940   153.7      3.52    5.6  190.668  2.46     1.06  \n",
       "1964Q1   30.950   154.8      3.51    5.5  191.245  0.13     3.38  \n",
       "1964Q2   31.020   156.8      3.47    5.2  191.889  0.90     2.57  \n",
       "1964Q3   31.120   159.2      3.53    5.0  192.631  1.29     2.25  \n",
       "1964Q4   31.280   160.7      3.76    5.0  193.223  2.05     1.71  \n",
       "1965Q1   31.380   162.0      3.93    4.9  193.709  1.28     2.65  \n",
       "1965Q2   31.580   163.1      3.84    4.7  194.303  2.54     1.30  \n",
       "1965Q3   31.650   166.0      3.93    4.4  194.997  0.89     3.04  \n",
       "1965Q4   31.880   169.1      4.35    4.1  195.539  2.90     1.46  \n",
       "1966Q1   32.280   171.8      4.62    3.9  195.999  4.99    -0.37  \n",
       "1966Q2   32.450   170.3      4.65    3.8  196.560  2.10     2.55  \n",
       "...         ...     ...       ...    ...      ...   ...      ...  \n",
       "2002Q2  180.000  1199.5      1.70    5.8  288.028  1.56     0.14  \n",
       "2002Q3  181.200  1204.0      1.61    5.7  288.783  2.66    -1.05  \n",
       "2002Q4  182.600  1226.8      1.20    5.8  289.421  3.08    -1.88  \n",
       "2003Q1  183.200  1248.4      1.14    5.9  290.019  1.31    -0.17  \n",
       "2003Q2  183.700  1287.9      0.96    6.2  290.704  1.09    -0.13  \n",
       "2003Q3  184.900  1297.3      0.94    6.1  291.449  2.60    -1.67  \n",
       "2003Q4  186.300  1306.1      0.90    5.8  292.057  3.02    -2.11  \n",
       "2004Q1  187.400  1332.1      0.94    5.7  292.635  2.35    -1.42  \n",
       "2004Q2  189.100  1340.5      1.21    5.6  293.310  3.61    -2.41  \n",
       "2004Q3  190.800  1361.0      1.63    5.4  294.066  3.58    -1.95  \n",
       "2004Q4  191.800  1366.6      2.20    5.4  294.741  2.09     0.11  \n",
       "2005Q1  193.800  1357.8      2.69    5.3  295.308  4.15    -1.46  \n",
       "2005Q2  194.700  1366.6      3.01    5.1  295.994  1.85     1.16  \n",
       "2005Q3  199.200  1375.0      3.52    5.0  296.770  9.14    -5.62  \n",
       "2005Q4  199.400  1380.6      4.00    4.9  297.435  0.40     3.60  \n",
       "2006Q1  200.700  1380.5      4.51    4.7  298.061  2.60     1.91  \n",
       "2006Q2  202.700  1369.2      4.82    4.7  298.766  3.97     0.85  \n",
       "2006Q3  201.900  1369.4      4.90    4.7  299.593 -1.58     6.48  \n",
       "2006Q4  203.574  1373.6      4.92    4.4  300.320  3.30     1.62  \n",
       "2007Q1  205.920  1379.7      4.95    4.5  300.977  4.58     0.36  \n",
       "2007Q2  207.338  1370.0      4.72    4.5  301.714  2.75     1.97  \n",
       "2007Q3  209.133  1379.2      4.00    4.7  302.509  3.45     0.55  \n",
       "2007Q4  212.495  1377.4      3.01    4.8  303.204  6.38    -3.37  \n",
       "2008Q1  213.997  1384.0      1.56    4.9  303.803  2.82    -1.26  \n",
       "2008Q2  218.610  1409.3      1.74    5.4  304.483  8.53    -6.79  \n",
       "2008Q3  216.889  1474.7      1.17    6.0  305.270 -3.16     4.33  \n",
       "2008Q4  212.174  1576.5      0.12    6.9  305.952 -8.79     8.91  \n",
       "2009Q1  212.671  1592.8      0.22    8.1  306.547  0.94    -0.71  \n",
       "2009Q2  214.469  1653.6      0.18    9.2  307.226  3.37    -3.19  \n",
       "2009Q3  216.385  1673.9      0.12    9.6  308.013  3.56    -3.44  \n",
       "\n",
       "[203 rows x 14 columns]"
      ]
     },
     "execution_count": 64,
     "metadata": {},
     "output_type": "execute_result"
    }
   ],
   "source": [
    "data"
   ]
  },
  {
   "cell_type": "code",
   "execution_count": null,
   "metadata": {},
   "outputs": [],
   "source": []
  }
 ],
 "metadata": {
  "kernelspec": {
   "display_name": "Python 3",
   "language": "python",
   "name": "python3"
  },
  "language_info": {
   "codemirror_mode": {
    "name": "ipython",
    "version": 3
   },
   "file_extension": ".py",
   "mimetype": "text/x-python",
   "name": "python",
   "nbconvert_exporter": "python",
   "pygments_lexer": "ipython3",
   "version": "3.7.3"
  }
 },
 "nbformat": 4,
 "nbformat_minor": 2
}

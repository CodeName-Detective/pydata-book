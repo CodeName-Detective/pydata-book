{
 "cells": [
  {
   "cell_type": "code",
   "execution_count": 1,
   "metadata": {},
   "outputs": [],
   "source": [
    "import numpy as np\n",
    "my_arr = np.arange(1000000)\n",
    "my_list =  list(range(1000000))"
   ]
  },
  {
   "cell_type": "code",
   "execution_count": 2,
   "metadata": {},
   "outputs": [
    {
     "name": "stdout",
     "output_type": "stream",
     "text": [
      "Wall time: 215 ms\n"
     ]
    }
   ],
   "source": [
    "%time for _ in range(10): my_arr2 = my_arr*2"
   ]
  },
  {
   "cell_type": "code",
   "execution_count": 3,
   "metadata": {},
   "outputs": [
    {
     "name": "stdout",
     "output_type": "stream",
     "text": [
      "Wall time: 2.23 s\n"
     ]
    }
   ],
   "source": [
    "%time for _ in range(10): my_list2 = [i*2 for i in my_list]"
   ]
  },
  {
   "cell_type": "code",
   "execution_count": 4,
   "metadata": {},
   "outputs": [
    {
     "data": {
      "text/plain": [
       "array([[-1.54886329, -0.25517222, -1.032759  ,  0.05570272,  0.9742597 ],\n",
       "       [ 0.20706271,  1.67503746,  0.63680304, -0.48229009, -1.65214922]])"
      ]
     },
     "execution_count": 4,
     "metadata": {},
     "output_type": "execute_result"
    }
   ],
   "source": [
    "arr1 = np.random.randn(2,5)\n",
    "arr1"
   ]
  },
  {
   "cell_type": "code",
   "execution_count": 5,
   "metadata": {},
   "outputs": [
    {
     "data": {
      "text/plain": [
       "array([[-15.48863288,  -2.55172217, -10.32759002,   0.55702717,\n",
       "          9.74259696],\n",
       "       [  2.07062706,  16.75037462,   6.36803036,  -4.82290087,\n",
       "        -16.52149219]])"
      ]
     },
     "execution_count": 5,
     "metadata": {},
     "output_type": "execute_result"
    }
   ],
   "source": [
    "arr1*10"
   ]
  },
  {
   "cell_type": "code",
   "execution_count": 6,
   "metadata": {},
   "outputs": [
    {
     "data": {
      "text/plain": [
       "array([[-3.09772658, -0.51034443, -2.065518  ,  0.11140543,  1.94851939],\n",
       "       [ 0.41412541,  3.35007492,  1.27360607, -0.96458017, -3.30429844]])"
      ]
     },
     "execution_count": 6,
     "metadata": {},
     "output_type": "execute_result"
    }
   ],
   "source": [
    "arr1+arr1"
   ]
  },
  {
   "cell_type": "code",
   "execution_count": 7,
   "metadata": {},
   "outputs": [
    {
     "data": {
      "text/plain": [
       "(2, 5)"
      ]
     },
     "execution_count": 7,
     "metadata": {},
     "output_type": "execute_result"
    }
   ],
   "source": [
    "arr1.shape"
   ]
  },
  {
   "cell_type": "code",
   "execution_count": 9,
   "metadata": {},
   "outputs": [
    {
     "data": {
      "text/plain": [
       "dtype('float64')"
      ]
     },
     "execution_count": 9,
     "metadata": {},
     "output_type": "execute_result"
    }
   ],
   "source": [
    "arr1.dtype"
   ]
  },
  {
   "cell_type": "code",
   "execution_count": 11,
   "metadata": {},
   "outputs": [
    {
     "data": {
      "text/plain": [
       "array([1. , 1. , 2.3, 4.4, 5. , 6. , 7.5, 9.9])"
      ]
     },
     "execution_count": 11,
     "metadata": {},
     "output_type": "execute_result"
    }
   ],
   "source": [
    "arr1 = np.array([1,1,2.3,4.4,5,6,7.5,9.9])\n",
    "arr1"
   ]
  },
  {
   "cell_type": "code",
   "execution_count": 12,
   "metadata": {},
   "outputs": [
    {
     "data": {
      "text/plain": [
       "array([2., 4., 5., 6., 7., 1., 6.])"
      ]
     },
     "execution_count": 12,
     "metadata": {},
     "output_type": "execute_result"
    }
   ],
   "source": [
    "arr2 = np.array([2,4,5,6,7,1,6],dtype=np.float64)\n",
    "arr2"
   ]
  },
  {
   "cell_type": "code",
   "execution_count": 16,
   "metadata": {},
   "outputs": [],
   "source": [
    "arr1 = arr1.astype(np.int64)"
   ]
  },
  {
   "cell_type": "code",
   "execution_count": 17,
   "metadata": {},
   "outputs": [
    {
     "data": {
      "text/plain": [
       "dtype('int64')"
      ]
     },
     "execution_count": 17,
     "metadata": {},
     "output_type": "execute_result"
    }
   ],
   "source": [
    "arr1.dtype"
   ]
  },
  {
   "cell_type": "code",
   "execution_count": 18,
   "metadata": {},
   "outputs": [
    {
     "data": {
      "text/plain": [
       "array([[0.00000000e+000, 0.00000000e+000, 0.00000000e+000],\n",
       "       [0.00000000e+000, 0.00000000e+000, 5.63234836e-321],\n",
       "       [1.13526775e-311, 7.55243368e+024, 1.13647398e-311]])"
      ]
     },
     "execution_count": 18,
     "metadata": {},
     "output_type": "execute_result"
    }
   ],
   "source": [
    "np.empty((3,3))"
   ]
  },
  {
   "cell_type": "code",
   "execution_count": 19,
   "metadata": {},
   "outputs": [
    {
     "data": {
      "text/plain": [
       "array([[0., 0.],\n",
       "       [0., 0.]])"
      ]
     },
     "execution_count": 19,
     "metadata": {},
     "output_type": "execute_result"
    }
   ],
   "source": [
    "np.zeros((2,2))"
   ]
  },
  {
   "cell_type": "code",
   "execution_count": 21,
   "metadata": {},
   "outputs": [
    {
     "data": {
      "text/plain": [
       "array([[1., 1., 1.]])"
      ]
     },
     "execution_count": 21,
     "metadata": {},
     "output_type": "execute_result"
    }
   ],
   "source": [
    "np.ones((1,3))"
   ]
  },
  {
   "cell_type": "code",
   "execution_count": 22,
   "metadata": {},
   "outputs": [
    {
     "data": {
      "text/plain": [
       "1"
      ]
     },
     "execution_count": 22,
     "metadata": {},
     "output_type": "execute_result"
    }
   ],
   "source": [
    "arr2.ndim"
   ]
  },
  {
   "cell_type": "code",
   "execution_count": 24,
   "metadata": {},
   "outputs": [
    {
     "data": {
      "text/plain": [
       "array([b'I am legend', b'THis is batman'], dtype='|S14')"
      ]
     },
     "execution_count": 24,
     "metadata": {},
     "output_type": "execute_result"
    }
   ],
   "source": [
    "stringarray = np.array(['I am legend','THis is batman'], dtype=np.string_)\n",
    "stringarray"
   ]
  },
  {
   "cell_type": "code",
   "execution_count": 27,
   "metadata": {},
   "outputs": [
    {
     "data": {
      "text/plain": [
       "array([[1, 2, 3],\n",
       "       [4, 5, 6]])"
      ]
     },
     "execution_count": 27,
     "metadata": {},
     "output_type": "execute_result"
    }
   ],
   "source": [
    "arr = np.array([[1,2,3],[4,5,6]])\n",
    "arr"
   ]
  },
  {
   "cell_type": "code",
   "execution_count": 28,
   "metadata": {},
   "outputs": [
    {
     "data": {
      "text/plain": [
       "array([[ 1,  4,  9],\n",
       "       [16, 25, 36]])"
      ]
     },
     "execution_count": 28,
     "metadata": {},
     "output_type": "execute_result"
    }
   ],
   "source": [
    "arr*arr"
   ]
  },
  {
   "cell_type": "code",
   "execution_count": 29,
   "metadata": {},
   "outputs": [
    {
     "data": {
      "text/plain": [
       "array([[ 2,  4,  6],\n",
       "       [ 8, 10, 12]])"
      ]
     },
     "execution_count": 29,
     "metadata": {},
     "output_type": "execute_result"
    }
   ],
   "source": [
    "arr+arr"
   ]
  },
  {
   "cell_type": "code",
   "execution_count": 30,
   "metadata": {},
   "outputs": [
    {
     "data": {
      "text/plain": [
       "array([[0, 0, 0],\n",
       "       [0, 0, 0]])"
      ]
     },
     "execution_count": 30,
     "metadata": {},
     "output_type": "execute_result"
    }
   ],
   "source": [
    "arr-arr"
   ]
  },
  {
   "cell_type": "code",
   "execution_count": 31,
   "metadata": {},
   "outputs": [
    {
     "data": {
      "text/plain": [
       "array([[1.        , 0.5       , 0.33333333],\n",
       "       [0.25      , 0.2       , 0.16666667]])"
      ]
     },
     "execution_count": 31,
     "metadata": {},
     "output_type": "execute_result"
    }
   ],
   "source": [
    "1/arr"
   ]
  },
  {
   "cell_type": "code",
   "execution_count": 32,
   "metadata": {},
   "outputs": [
    {
     "data": {
      "text/plain": [
       "array([[1.        , 1.41421356, 1.73205081],\n",
       "       [2.        , 2.23606798, 2.44948974]])"
      ]
     },
     "execution_count": 32,
     "metadata": {},
     "output_type": "execute_result"
    }
   ],
   "source": [
    "arr**0.5"
   ]
  },
  {
   "cell_type": "code",
   "execution_count": 33,
   "metadata": {},
   "outputs": [],
   "source": [
    "arr2 = np.array([[1,3,4],[4,5,7]])"
   ]
  },
  {
   "cell_type": "code",
   "execution_count": 34,
   "metadata": {},
   "outputs": [
    {
     "data": {
      "text/plain": [
       "array([[False,  True,  True],\n",
       "       [False, False,  True]])"
      ]
     },
     "execution_count": 34,
     "metadata": {},
     "output_type": "execute_result"
    }
   ],
   "source": [
    "arr2>arr"
   ]
  },
  {
   "cell_type": "code",
   "execution_count": 4,
   "metadata": {},
   "outputs": [
    {
     "data": {
      "text/plain": [
       "array([[0, 1, 2],\n",
       "       [3, 4, 5],\n",
       "       [6, 7, 8]])"
      ]
     },
     "execution_count": 4,
     "metadata": {},
     "output_type": "execute_result"
    }
   ],
   "source": [
    "arr3d = np.arange(0,9).reshape((3,3))\n",
    "arr3d"
   ]
  },
  {
   "cell_type": "code",
   "execution_count": 6,
   "metadata": {},
   "outputs": [
    {
     "data": {
      "text/plain": [
       "array([[0, 1, 2],\n",
       "       [3, 4, 5]])"
      ]
     },
     "execution_count": 6,
     "metadata": {},
     "output_type": "execute_result"
    }
   ],
   "source": [
    "arr3d[:2]"
   ]
  },
  {
   "cell_type": "code",
   "execution_count": 7,
   "metadata": {},
   "outputs": [
    {
     "data": {
      "text/plain": [
       "array([[0],\n",
       "       [3]])"
      ]
     },
     "execution_count": 7,
     "metadata": {},
     "output_type": "execute_result"
    }
   ],
   "source": [
    "arr3d[:2,:1]"
   ]
  },
  {
   "cell_type": "code",
   "execution_count": 8,
   "metadata": {},
   "outputs": [
    {
     "data": {
      "text/plain": [
       "array([3, 4])"
      ]
     },
     "execution_count": 8,
     "metadata": {},
     "output_type": "execute_result"
    }
   ],
   "source": [
    "arr3d[1,:2]"
   ]
  },
  {
   "cell_type": "code",
   "execution_count": 9,
   "metadata": {},
   "outputs": [
    {
     "data": {
      "text/plain": [
       "array([[0, 1],\n",
       "       [3, 4],\n",
       "       [6, 7]])"
      ]
     },
     "execution_count": 9,
     "metadata": {},
     "output_type": "execute_result"
    }
   ],
   "source": [
    "arr3d[:,:2]"
   ]
  },
  {
   "cell_type": "code",
   "execution_count": 47,
   "metadata": {},
   "outputs": [],
   "source": [
    "names =  np.array(['Bob','Joe','Will','Bob','Will','Joe','Joe'])\n",
    "data = np.random.randn(7,4)"
   ]
  },
  {
   "cell_type": "code",
   "execution_count": 11,
   "metadata": {},
   "outputs": [
    {
     "data": {
      "text/plain": [
       "array(['Bob', 'Joe', 'Will', 'Bob', 'Will', 'Joe', 'Joe'], dtype='<U4')"
      ]
     },
     "execution_count": 11,
     "metadata": {},
     "output_type": "execute_result"
    }
   ],
   "source": [
    "names"
   ]
  },
  {
   "cell_type": "code",
   "execution_count": 12,
   "metadata": {},
   "outputs": [
    {
     "data": {
      "text/plain": [
       "array([[ 0.63213713,  0.66048865,  1.19117335,  1.23456274],\n",
       "       [ 0.1397168 ,  0.90209184,  1.93399962,  0.14460979],\n",
       "       [-1.5328744 ,  0.61984106,  0.08681488,  1.32333097],\n",
       "       [-1.74343566, -0.25574346, -0.06037638,  0.5831549 ],\n",
       "       [ 0.59506   , -0.87794422, -1.32882261,  0.17192322],\n",
       "       [-0.96832247,  0.04007444,  1.03249818, -1.05554666],\n",
       "       [ 0.71221706,  0.75018634,  1.24243777, -1.9289293 ]])"
      ]
     },
     "execution_count": 12,
     "metadata": {},
     "output_type": "execute_result"
    }
   ],
   "source": [
    "data"
   ]
  },
  {
   "cell_type": "code",
   "execution_count": 13,
   "metadata": {},
   "outputs": [
    {
     "data": {
      "text/plain": [
       "array([[ 0.1397168 ,  0.90209184,  1.93399962,  0.14460979],\n",
       "       [-0.96832247,  0.04007444,  1.03249818, -1.05554666],\n",
       "       [ 0.71221706,  0.75018634,  1.24243777, -1.9289293 ]])"
      ]
     },
     "execution_count": 13,
     "metadata": {},
     "output_type": "execute_result"
    }
   ],
   "source": [
    "data[names == 'Joe']"
   ]
  },
  {
   "cell_type": "code",
   "execution_count": 14,
   "metadata": {},
   "outputs": [
    {
     "data": {
      "text/plain": [
       "array([[ 1.93399962,  0.14460979],\n",
       "       [ 1.03249818, -1.05554666],\n",
       "       [ 1.24243777, -1.9289293 ]])"
      ]
     },
     "execution_count": 14,
     "metadata": {},
     "output_type": "execute_result"
    }
   ],
   "source": [
    "data[names ==  'Joe', 2:]"
   ]
  },
  {
   "cell_type": "code",
   "execution_count": 15,
   "metadata": {},
   "outputs": [
    {
     "data": {
      "text/plain": [
       "array([[ 0.63213713,  0.66048865,  1.19117335,  1.23456274],\n",
       "       [-1.5328744 ,  0.61984106,  0.08681488,  1.32333097],\n",
       "       [-1.74343566, -0.25574346, -0.06037638,  0.5831549 ],\n",
       "       [ 0.59506   , -0.87794422, -1.32882261,  0.17192322]])"
      ]
     },
     "execution_count": 15,
     "metadata": {},
     "output_type": "execute_result"
    }
   ],
   "source": [
    "data[names != 'Joe']"
   ]
  },
  {
   "cell_type": "code",
   "execution_count": 17,
   "metadata": {},
   "outputs": [
    {
     "data": {
      "text/plain": [
       "array([[ 0.63213713,  0.66048865,  1.19117335,  1.23456274],\n",
       "       [-1.5328744 ,  0.61984106,  0.08681488,  1.32333097],\n",
       "       [-1.74343566, -0.25574346, -0.06037638,  0.5831549 ],\n",
       "       [ 0.59506   , -0.87794422, -1.32882261,  0.17192322]])"
      ]
     },
     "execution_count": 17,
     "metadata": {},
     "output_type": "execute_result"
    }
   ],
   "source": [
    "data[~(names == 'Joe')]"
   ]
  },
  {
   "cell_type": "code",
   "execution_count": 19,
   "metadata": {},
   "outputs": [
    {
     "data": {
      "text/plain": [
       "array([[ 0.1397168 ,  0.90209184,  1.93399962,  0.14460979],\n",
       "       [-1.5328744 ,  0.61984106,  0.08681488,  1.32333097],\n",
       "       [ 0.59506   , -0.87794422, -1.32882261,  0.17192322],\n",
       "       [-0.96832247,  0.04007444,  1.03249818, -1.05554666],\n",
       "       [ 0.71221706,  0.75018634,  1.24243777, -1.9289293 ]])"
      ]
     },
     "execution_count": 19,
     "metadata": {},
     "output_type": "execute_result"
    }
   ],
   "source": [
    "data[(names == 'Joe') | (names == 'Will')]"
   ]
  },
  {
   "cell_type": "code",
   "execution_count": 20,
   "metadata": {},
   "outputs": [
    {
     "data": {
      "text/plain": [
       "array([-1.5328744 , -1.74343566, -0.25574346, -0.06037638, -0.87794422,\n",
       "       -1.32882261, -0.96832247, -1.05554666, -1.9289293 ])"
      ]
     },
     "execution_count": 20,
     "metadata": {},
     "output_type": "execute_result"
    }
   ],
   "source": [
    "data[data<0]"
   ]
  },
  {
   "cell_type": "code",
   "execution_count": 21,
   "metadata": {},
   "outputs": [],
   "source": [
    "data[data<0]=0"
   ]
  },
  {
   "cell_type": "code",
   "execution_count": 22,
   "metadata": {},
   "outputs": [
    {
     "data": {
      "text/plain": [
       "array([[0.63213713, 0.66048865, 1.19117335, 1.23456274],\n",
       "       [0.1397168 , 0.90209184, 1.93399962, 0.14460979],\n",
       "       [0.        , 0.61984106, 0.08681488, 1.32333097],\n",
       "       [0.        , 0.        , 0.        , 0.5831549 ],\n",
       "       [0.59506   , 0.        , 0.        , 0.17192322],\n",
       "       [0.        , 0.04007444, 1.03249818, 0.        ],\n",
       "       [0.71221706, 0.75018634, 1.24243777, 0.        ]])"
      ]
     },
     "execution_count": 22,
     "metadata": {},
     "output_type": "execute_result"
    }
   ],
   "source": [
    "data"
   ]
  },
  {
   "cell_type": "code",
   "execution_count": 23,
   "metadata": {},
   "outputs": [
    {
     "data": {
      "text/plain": [
       "array([[0.1397168 , 0.90209184, 1.93399962, 0.14460979],\n",
       "       [0.        , 0.        , 0.        , 0.5831549 ],\n",
       "       [0.        , 0.61984106, 0.08681488, 1.32333097],\n",
       "       [0.        , 0.04007444, 1.03249818, 0.        ]])"
      ]
     },
     "execution_count": 23,
     "metadata": {},
     "output_type": "execute_result"
    }
   ],
   "source": [
    "data[[1,3,2,5]]"
   ]
  },
  {
   "cell_type": "code",
   "execution_count": 24,
   "metadata": {},
   "outputs": [
    {
     "data": {
      "text/plain": [
       "array([[0.63213713, 0.66048865, 1.19117335, 1.23456274],\n",
       "       [0.1397168 , 0.90209184, 1.93399962, 0.14460979],\n",
       "       [0.        , 0.61984106, 0.08681488, 1.32333097],\n",
       "       [0.        , 0.        , 0.        , 0.5831549 ],\n",
       "       [0.59506   , 0.        , 0.        , 0.17192322],\n",
       "       [0.        , 0.04007444, 1.03249818, 0.        ],\n",
       "       [0.71221706, 0.75018634, 1.24243777, 0.        ]])"
      ]
     },
     "execution_count": 24,
     "metadata": {},
     "output_type": "execute_result"
    }
   ],
   "source": [
    "data"
   ]
  },
  {
   "cell_type": "code",
   "execution_count": 25,
   "metadata": {},
   "outputs": [
    {
     "data": {
      "text/plain": [
       "array([[0.63213713, 0.1397168 , 0.        , 0.        , 0.59506   ,\n",
       "        0.        , 0.71221706],\n",
       "       [0.66048865, 0.90209184, 0.61984106, 0.        , 0.        ,\n",
       "        0.04007444, 0.75018634],\n",
       "       [1.19117335, 1.93399962, 0.08681488, 0.        , 0.        ,\n",
       "        1.03249818, 1.24243777],\n",
       "       [1.23456274, 0.14460979, 1.32333097, 0.5831549 , 0.17192322,\n",
       "        0.        , 0.        ]])"
      ]
     },
     "execution_count": 25,
     "metadata": {},
     "output_type": "execute_result"
    }
   ],
   "source": [
    "data.T"
   ]
  },
  {
   "cell_type": "code",
   "execution_count": 26,
   "metadata": {},
   "outputs": [
    {
     "data": {
      "text/plain": [
       "array([[-0.28197314, -0.52927244,  0.93499515,  0.00778545],\n",
       "       [-0.83965447, -0.64421548, -1.16731922, -0.90434918],\n",
       "       [ 0.66666597,  2.01957863, -1.74613592, -1.80109636],\n",
       "       [-2.06889303, -0.63186126, -0.88649867,  0.41620445]])"
      ]
     },
     "execution_count": 26,
     "metadata": {},
     "output_type": "execute_result"
    }
   ],
   "source": [
    "arr = np.random.randn(4,4)\n",
    "arr"
   ]
  },
  {
   "cell_type": "code",
   "execution_count": 27,
   "metadata": {},
   "outputs": [
    {
     "data": {
      "text/plain": [
       "array([[False, False,  True,  True],\n",
       "       [False, False, False, False],\n",
       "       [ True,  True, False, False],\n",
       "       [False, False, False,  True]])"
      ]
     },
     "execution_count": 27,
     "metadata": {},
     "output_type": "execute_result"
    }
   ],
   "source": [
    "arr > 0"
   ]
  },
  {
   "cell_type": "code",
   "execution_count": 28,
   "metadata": {},
   "outputs": [
    {
     "data": {
      "text/plain": [
       "array([[-2, -2,  2,  2],\n",
       "       [-2, -2, -2, -2],\n",
       "       [ 2,  2, -2, -2],\n",
       "       [-2, -2, -2,  2]])"
      ]
     },
     "execution_count": 28,
     "metadata": {},
     "output_type": "execute_result"
    }
   ],
   "source": [
    "np.where(arr>0,2,-2)"
   ]
  },
  {
   "cell_type": "code",
   "execution_count": 29,
   "metadata": {},
   "outputs": [
    {
     "data": {
      "text/plain": [
       "array([[-0.28197314, -0.52927244,  2.        ,  2.        ],\n",
       "       [-0.83965447, -0.64421548, -1.16731922, -0.90434918],\n",
       "       [ 2.        ,  2.        , -1.74613592, -1.80109636],\n",
       "       [-2.06889303, -0.63186126, -0.88649867,  2.        ]])"
      ]
     },
     "execution_count": 29,
     "metadata": {},
     "output_type": "execute_result"
    }
   ],
   "source": [
    "np.where(arr>0,2,arr)"
   ]
  },
  {
   "cell_type": "code",
   "execution_count": 30,
   "metadata": {},
   "outputs": [
    {
     "data": {
      "text/plain": [
       "-0.4660024701214561"
      ]
     },
     "execution_count": 30,
     "metadata": {},
     "output_type": "execute_result"
    }
   ],
   "source": [
    "arr.mean()"
   ]
  },
  {
   "cell_type": "code",
   "execution_count": 31,
   "metadata": {},
   "outputs": [
    {
     "data": {
      "text/plain": [
       "-0.4660024701214561"
      ]
     },
     "execution_count": 31,
     "metadata": {},
     "output_type": "execute_result"
    }
   ],
   "source": [
    "np.mean(arr)"
   ]
  },
  {
   "cell_type": "code",
   "execution_count": 32,
   "metadata": {},
   "outputs": [
    {
     "data": {
      "text/plain": [
       "array([-0.63096367,  0.05355736, -0.71623966, -0.57036391])"
      ]
     },
     "execution_count": 32,
     "metadata": {},
     "output_type": "execute_result"
    }
   ],
   "source": [
    "arr.mean(0)"
   ]
  },
  {
   "cell_type": "code",
   "execution_count": 33,
   "metadata": {},
   "outputs": [
    {
     "data": {
      "text/plain": [
       "array([ 0.03288376, -0.88888459, -0.21524692, -0.79276213])"
      ]
     },
     "execution_count": 33,
     "metadata": {},
     "output_type": "execute_result"
    }
   ],
   "source": [
    "arr.mean(1)"
   ]
  },
  {
   "cell_type": "code",
   "execution_count": 34,
   "metadata": {},
   "outputs": [
    {
     "data": {
      "text/plain": [
       "1.046262689758972"
      ]
     },
     "execution_count": 34,
     "metadata": {},
     "output_type": "execute_result"
    }
   ],
   "source": [
    "arr.std()"
   ]
  },
  {
   "cell_type": "code",
   "execution_count": 35,
   "metadata": {},
   "outputs": [
    {
     "data": {
      "text/plain": [
       "1.094665615981679"
      ]
     },
     "execution_count": 35,
     "metadata": {},
     "output_type": "execute_result"
    }
   ],
   "source": [
    "arr.var()"
   ]
  },
  {
   "cell_type": "code",
   "execution_count": 36,
   "metadata": {},
   "outputs": [
    {
     "data": {
      "text/plain": [
       "array([-0.28197314, -0.81124557,  0.12374958,  0.13153503, -0.70811945,\n",
       "       -1.35233493, -2.51965415, -3.42400333, -2.75733736, -0.73775873,\n",
       "       -2.48389465, -4.28499101, -6.35388404, -6.9857453 , -7.87224397,\n",
       "       -7.45603952])"
      ]
     },
     "execution_count": 36,
     "metadata": {},
     "output_type": "execute_result"
    }
   ],
   "source": [
    "arr.cumsum()"
   ]
  },
  {
   "cell_type": "code",
   "execution_count": 37,
   "metadata": {},
   "outputs": [
    {
     "data": {
      "text/plain": [
       "array([[-0.28197314, -0.52927244,  0.93499515,  0.00778545],\n",
       "       [-1.12162761, -1.17348792, -0.23232407, -0.89656373],\n",
       "       [-0.45496165,  0.84609072, -1.97845999, -2.69766009],\n",
       "       [-2.52385468,  0.21422946, -2.86495866, -2.28145564]])"
      ]
     },
     "execution_count": 37,
     "metadata": {},
     "output_type": "execute_result"
    }
   ],
   "source": [
    "arr.cumsum(0)"
   ]
  },
  {
   "cell_type": "code",
   "execution_count": 38,
   "metadata": {},
   "outputs": [
    {
     "data": {
      "text/plain": [
       "array([[-2.81973138e-01,  1.49240609e-01,  1.39539246e-01,\n",
       "         1.08637579e-03],\n",
       "       [-8.39654475e-01,  5.40918410e-01, -6.31424457e-01,\n",
       "         5.71028190e-01],\n",
       "       [ 6.66665966e-01,  1.34638434e+00, -2.35097005e+00,\n",
       "         4.23432359e+00],\n",
       "       [-2.06889303e+00,  1.30725336e+00, -1.15887837e+00,\n",
       "        -4.82330333e-01]])"
      ]
     },
     "execution_count": 38,
     "metadata": {},
     "output_type": "execute_result"
    }
   ],
   "source": [
    "arr.cumprod(1)"
   ]
  },
  {
   "cell_type": "code",
   "execution_count": 39,
   "metadata": {},
   "outputs": [],
   "source": [
    "arr = np.random.randn(100)"
   ]
  },
  {
   "cell_type": "code",
   "execution_count": 40,
   "metadata": {},
   "outputs": [
    {
     "data": {
      "text/plain": [
       "47"
      ]
     },
     "execution_count": 40,
     "metadata": {},
     "output_type": "execute_result"
    }
   ],
   "source": [
    "(arr>0).sum()"
   ]
  },
  {
   "cell_type": "code",
   "execution_count": 41,
   "metadata": {},
   "outputs": [
    {
     "data": {
      "text/plain": [
       "True"
      ]
     },
     "execution_count": 41,
     "metadata": {},
     "output_type": "execute_result"
    }
   ],
   "source": [
    "(arr>0).any()"
   ]
  },
  {
   "cell_type": "code",
   "execution_count": 42,
   "metadata": {},
   "outputs": [
    {
     "data": {
      "text/plain": [
       "False"
      ]
     },
     "execution_count": 42,
     "metadata": {},
     "output_type": "execute_result"
    }
   ],
   "source": [
    "(arr>0).all()"
   ]
  },
  {
   "cell_type": "code",
   "execution_count": 43,
   "metadata": {},
   "outputs": [
    {
     "data": {
      "text/plain": [
       "array([-1.51939283, -0.53396291, -0.51268209, -0.0939664 , -0.51693149,\n",
       "       -1.82992739, -0.89886817,  0.59854003,  0.72612142, -0.36236423,\n",
       "       -0.81952569, -0.28645923,  0.29142349, -0.5660996 ,  0.456148  ,\n",
       "       -0.07748426, -0.24895481,  0.22727809,  0.94724866, -1.19841813,\n",
       "        1.2103845 ,  0.13476245,  1.17008358,  0.8199372 ,  0.38148103,\n",
       "        0.0377067 ,  0.32283246,  2.29249031,  0.48678218,  0.87946236,\n",
       "        0.95148916, -1.83194847, -0.48961743, -0.1980595 ,  0.48871787,\n",
       "        2.00717815,  0.26871995, -1.731255  ,  0.47120919, -1.04949934,\n",
       "       -0.65145489,  1.98126315,  0.38607299,  1.00212347,  0.54059   ,\n",
       "       -0.84714266,  1.14327675, -1.05478962, -1.47829535, -1.55405078,\n",
       "       -1.48582135,  0.80556073,  0.32767329, -0.3168562 , -1.07933224,\n",
       "        0.25374671, -0.88578455, -0.67531966, -0.11642156, -0.95608299,\n",
       "       -0.02677521,  0.49382639, -0.17695448, -1.18602185,  0.14445703,\n",
       "       -0.83732912,  0.0530451 , -0.22231744, -0.997296  , -0.6112915 ,\n",
       "        0.19221556, -0.67845711,  0.87516866, -1.03977803, -1.63348333,\n",
       "        1.05505059,  1.50259474,  0.255645  , -1.01307112, -2.65768465,\n",
       "       -0.93521699,  1.89168414, -0.04167644,  1.24587671,  0.04745756,\n",
       "        1.75167707, -1.54656638, -1.79637523, -0.19880291, -0.53763649,\n",
       "        1.29808892,  0.83112673, -0.28604931,  2.20872237,  0.38750226,\n",
       "       -0.43474911, -1.13864109, -1.14806144,  0.6357511 ,  0.66515835])"
      ]
     },
     "execution_count": 43,
     "metadata": {},
     "output_type": "execute_result"
    }
   ],
   "source": [
    "arr"
   ]
  },
  {
   "cell_type": "code",
   "execution_count": 45,
   "metadata": {},
   "outputs": [
    {
     "data": {
      "text/plain": [
       "array([-2.65768465, -1.83194847, -1.82992739, -1.79637523, -1.731255  ,\n",
       "       -1.63348333, -1.55405078, -1.54656638, -1.51939283, -1.48582135,\n",
       "       -1.47829535, -1.19841813, -1.18602185, -1.14806144, -1.13864109,\n",
       "       -1.07933224, -1.05478962, -1.04949934, -1.03977803, -1.01307112,\n",
       "       -0.997296  , -0.95608299, -0.93521699, -0.89886817, -0.88578455,\n",
       "       -0.84714266, -0.83732912, -0.81952569, -0.67845711, -0.67531966,\n",
       "       -0.65145489, -0.6112915 , -0.5660996 , -0.53763649, -0.53396291,\n",
       "       -0.51693149, -0.51268209, -0.48961743, -0.43474911, -0.36236423,\n",
       "       -0.3168562 , -0.28645923, -0.28604931, -0.24895481, -0.22231744,\n",
       "       -0.19880291, -0.1980595 , -0.17695448, -0.11642156, -0.0939664 ,\n",
       "       -0.07748426, -0.04167644, -0.02677521,  0.0377067 ,  0.04745756,\n",
       "        0.0530451 ,  0.13476245,  0.14445703,  0.19221556,  0.22727809,\n",
       "        0.25374671,  0.255645  ,  0.26871995,  0.29142349,  0.32283246,\n",
       "        0.32767329,  0.38148103,  0.38607299,  0.38750226,  0.456148  ,\n",
       "        0.47120919,  0.48678218,  0.48871787,  0.49382639,  0.54059   ,\n",
       "        0.59854003,  0.6357511 ,  0.66515835,  0.72612142,  0.80556073,\n",
       "        0.8199372 ,  0.83112673,  0.87516866,  0.87946236,  0.94724866,\n",
       "        0.95148916,  1.00212347,  1.05505059,  1.14327675,  1.17008358,\n",
       "        1.2103845 ,  1.24587671,  1.29808892,  1.50259474,  1.75167707,\n",
       "        1.89168414,  1.98126315,  2.00717815,  2.20872237,  2.29249031])"
      ]
     },
     "execution_count": 45,
     "metadata": {},
     "output_type": "execute_result"
    }
   ],
   "source": [
    "arr.sort()\n",
    "arr"
   ]
  },
  {
   "cell_type": "code",
   "execution_count": 46,
   "metadata": {},
   "outputs": [
    {
     "data": {
      "text/plain": [
       "array([[0, 1, 2],\n",
       "       [3, 4, 5],\n",
       "       [6, 7, 8]])"
      ]
     },
     "execution_count": 46,
     "metadata": {},
     "output_type": "execute_result"
    }
   ],
   "source": [
    "np.sort(arr2d)"
   ]
  },
  {
   "cell_type": "code",
   "execution_count": 48,
   "metadata": {},
   "outputs": [
    {
     "data": {
      "text/plain": [
       "array(['Bob', 'Joe', 'Will', 'Bob', 'Will', 'Joe', 'Joe'], dtype='<U4')"
      ]
     },
     "execution_count": 48,
     "metadata": {},
     "output_type": "execute_result"
    }
   ],
   "source": [
    "names = np.array(['Bob','Joe','Will','Bob','Will','Joe','Joe'])\n",
    "names"
   ]
  },
  {
   "cell_type": "code",
   "execution_count": 49,
   "metadata": {},
   "outputs": [
    {
     "data": {
      "text/plain": [
       "array(['Bob', 'Joe', 'Will'], dtype='<U4')"
      ]
     },
     "execution_count": 49,
     "metadata": {},
     "output_type": "execute_result"
    }
   ],
   "source": [
    "np.unique(names)"
   ]
  },
  {
   "cell_type": "code",
   "execution_count": 50,
   "metadata": {},
   "outputs": [
    {
     "data": {
      "text/plain": [
       "101.88889041267348"
      ]
     },
     "execution_count": 50,
     "metadata": {},
     "output_type": "execute_result"
    }
   ],
   "source": [
    "arr2.dot(arr)"
   ]
  },
  {
   "cell_type": "code",
   "execution_count": 51,
   "metadata": {},
   "outputs": [],
   "source": [
    "np.random.seed(100)"
   ]
  },
  {
   "cell_type": "code",
   "execution_count": 52,
   "metadata": {},
   "outputs": [],
   "source": [
    "state1 = np.random.RandomState(1234)"
   ]
  },
  {
   "cell_type": "code",
   "execution_count": 61,
   "metadata": {},
   "outputs": [
    {
     "data": {
      "text/plain": [
       "array([[-0.20849876,  1.03380073, -2.40045363],\n",
       "       [ 2.03060362, -1.14263129,  0.21188339],\n",
       "       [ 0.70472062, -0.78543521,  0.46205974]])"
      ]
     },
     "execution_count": 61,
     "metadata": {},
     "output_type": "execute_result"
    }
   ],
   "source": [
    "state1.randn(9).reshape((3,3))"
   ]
  },
  {
   "cell_type": "code",
   "execution_count": 63,
   "metadata": {},
   "outputs": [
    {
     "data": {
      "text/plain": [
       "[0,\n",
       " 1,\n",
       " 0,\n",
       " -1,\n",
       " 0,\n",
       " 1,\n",
       " 2,\n",
       " 3,\n",
       " 2,\n",
       " 3,\n",
       " 4,\n",
       " 3,\n",
       " 4,\n",
       " 5,\n",
       " 6,\n",
       " 5,\n",
       " 4,\n",
       " 3,\n",
       " 4,\n",
       " 3,\n",
       " 2,\n",
       " 1,\n",
       " 2,\n",
       " 3,\n",
       " 2,\n",
       " 1,\n",
       " 0,\n",
       " 1,\n",
       " 2,\n",
       " 1,\n",
       " 0,\n",
       " 1,\n",
       " 0,\n",
       " 1,\n",
       " 0,\n",
       " -1,\n",
       " -2,\n",
       " -3,\n",
       " -4,\n",
       " -5,\n",
       " -6,\n",
       " -7,\n",
       " -6,\n",
       " -7,\n",
       " -8,\n",
       " -9,\n",
       " -8,\n",
       " -7,\n",
       " -8,\n",
       " -7,\n",
       " -8,\n",
       " -7,\n",
       " -6,\n",
       " -7,\n",
       " -8,\n",
       " -9,\n",
       " -8,\n",
       " -9,\n",
       " -10,\n",
       " -9,\n",
       " -8,\n",
       " -7,\n",
       " -6,\n",
       " -5,\n",
       " -6,\n",
       " -5,\n",
       " -6,\n",
       " -5,\n",
       " -4,\n",
       " -3,\n",
       " -2,\n",
       " -3,\n",
       " -4,\n",
       " -5,\n",
       " -6,\n",
       " -7,\n",
       " -8,\n",
       " -9,\n",
       " -10,\n",
       " -11,\n",
       " -10,\n",
       " -11,\n",
       " -12,\n",
       " -11,\n",
       " -12,\n",
       " -13,\n",
       " -12,\n",
       " -11,\n",
       " -12,\n",
       " -13,\n",
       " -12,\n",
       " -13,\n",
       " -12,\n",
       " -13,\n",
       " -14,\n",
       " -15,\n",
       " -16,\n",
       " -17,\n",
       " -16,\n",
       " -17,\n",
       " -16,\n",
       " -15,\n",
       " -14,\n",
       " -15,\n",
       " -16,\n",
       " -15,\n",
       " -14,\n",
       " -15,\n",
       " -16,\n",
       " -15,\n",
       " -14,\n",
       " -13,\n",
       " -14,\n",
       " -15,\n",
       " -14,\n",
       " -13,\n",
       " -12,\n",
       " -11,\n",
       " -12,\n",
       " -13,\n",
       " -14,\n",
       " -13,\n",
       " -12,\n",
       " -11,\n",
       " -12,\n",
       " -13,\n",
       " -14,\n",
       " -15,\n",
       " -14,\n",
       " -15,\n",
       " -14,\n",
       " -13,\n",
       " -12,\n",
       " -11,\n",
       " -10,\n",
       " -11,\n",
       " -10,\n",
       " -11,\n",
       " -12,\n",
       " -13,\n",
       " -12,\n",
       " -11,\n",
       " -12,\n",
       " -13,\n",
       " -14,\n",
       " -15,\n",
       " -16,\n",
       " -15,\n",
       " -16,\n",
       " -15,\n",
       " -16,\n",
       " -15,\n",
       " -16,\n",
       " -17,\n",
       " -18,\n",
       " -19,\n",
       " -20,\n",
       " -21,\n",
       " -20,\n",
       " -21,\n",
       " -20,\n",
       " -21,\n",
       " -22,\n",
       " -23,\n",
       " -22,\n",
       " -21,\n",
       " -22,\n",
       " -21,\n",
       " -20,\n",
       " -19,\n",
       " -18,\n",
       " -17,\n",
       " -16,\n",
       " -17,\n",
       " -18,\n",
       " -19,\n",
       " -20,\n",
       " -21,\n",
       " -22,\n",
       " -23,\n",
       " -22,\n",
       " -23,\n",
       " -24,\n",
       " -25,\n",
       " -26,\n",
       " -25,\n",
       " -26,\n",
       " -27,\n",
       " -26,\n",
       " -27,\n",
       " -28,\n",
       " -29,\n",
       " -28,\n",
       " -27,\n",
       " -26,\n",
       " -25,\n",
       " -24,\n",
       " -23,\n",
       " -24,\n",
       " -23,\n",
       " -24,\n",
       " -25,\n",
       " -24,\n",
       " -23,\n",
       " -24,\n",
       " -23,\n",
       " -22,\n",
       " -23,\n",
       " -22,\n",
       " -21,\n",
       " -20,\n",
       " -19,\n",
       " -18,\n",
       " -19,\n",
       " -20,\n",
       " -21,\n",
       " -22,\n",
       " -21,\n",
       " -22,\n",
       " -23,\n",
       " -24,\n",
       " -25,\n",
       " -24,\n",
       " -23,\n",
       " -24,\n",
       " -25,\n",
       " -26,\n",
       " -25,\n",
       " -24,\n",
       " -25,\n",
       " -26,\n",
       " -27,\n",
       " -28,\n",
       " -29,\n",
       " -30,\n",
       " -31,\n",
       " -30,\n",
       " -31,\n",
       " -30,\n",
       " -29,\n",
       " -28,\n",
       " -29,\n",
       " -30,\n",
       " -29,\n",
       " -28,\n",
       " -27,\n",
       " -26,\n",
       " -25,\n",
       " -24,\n",
       " -23,\n",
       " -24,\n",
       " -23,\n",
       " -22,\n",
       " -23,\n",
       " -22,\n",
       " -21,\n",
       " -22,\n",
       " -21,\n",
       " -22,\n",
       " -21,\n",
       " -22,\n",
       " -21,\n",
       " -22,\n",
       " -21,\n",
       " -22,\n",
       " -23,\n",
       " -24,\n",
       " -25,\n",
       " -26,\n",
       " -27,\n",
       " -28,\n",
       " -27,\n",
       " -28,\n",
       " -29,\n",
       " -28,\n",
       " -29,\n",
       " -28,\n",
       " -29,\n",
       " -28,\n",
       " -29,\n",
       " -28,\n",
       " -29,\n",
       " -30,\n",
       " -31,\n",
       " -30,\n",
       " -29,\n",
       " -28,\n",
       " -29,\n",
       " -28,\n",
       " -29,\n",
       " -28,\n",
       " -29,\n",
       " -30,\n",
       " -29,\n",
       " -30,\n",
       " -31,\n",
       " -32,\n",
       " -31,\n",
       " -32,\n",
       " -33,\n",
       " -34,\n",
       " -35,\n",
       " -34,\n",
       " -33,\n",
       " -34,\n",
       " -35,\n",
       " -34,\n",
       " -33,\n",
       " -34,\n",
       " -33,\n",
       " -34,\n",
       " -33,\n",
       " -32,\n",
       " -31,\n",
       " -30,\n",
       " -29,\n",
       " -30,\n",
       " -29,\n",
       " -30,\n",
       " -29,\n",
       " -28,\n",
       " -27,\n",
       " -28,\n",
       " -27,\n",
       " -26,\n",
       " -25,\n",
       " -24,\n",
       " -25,\n",
       " -24,\n",
       " -25,\n",
       " -24,\n",
       " -25,\n",
       " -24,\n",
       " -23,\n",
       " -24,\n",
       " -25,\n",
       " -26,\n",
       " -27,\n",
       " -26,\n",
       " -25,\n",
       " -24,\n",
       " -23,\n",
       " -24,\n",
       " -25,\n",
       " -26,\n",
       " -27,\n",
       " -28,\n",
       " -29,\n",
       " -28,\n",
       " -29,\n",
       " -30,\n",
       " -29,\n",
       " -30,\n",
       " -29,\n",
       " -30,\n",
       " -29,\n",
       " -30,\n",
       " -29,\n",
       " -30,\n",
       " -31,\n",
       " -30,\n",
       " -31,\n",
       " -32,\n",
       " -31,\n",
       " -30,\n",
       " -29,\n",
       " -30,\n",
       " -31,\n",
       " -30,\n",
       " -29,\n",
       " -30,\n",
       " -29,\n",
       " -30,\n",
       " -31,\n",
       " -32,\n",
       " -31,\n",
       " -30,\n",
       " -29,\n",
       " -30,\n",
       " -29,\n",
       " -28,\n",
       " -27,\n",
       " -26,\n",
       " -27,\n",
       " -26,\n",
       " -27,\n",
       " -28,\n",
       " -27,\n",
       " -26,\n",
       " -27,\n",
       " -28,\n",
       " -29,\n",
       " -30,\n",
       " -29,\n",
       " -28,\n",
       " -29,\n",
       " -28,\n",
       " -29,\n",
       " -28,\n",
       " -29,\n",
       " -30,\n",
       " -31,\n",
       " -30,\n",
       " -31,\n",
       " -30,\n",
       " -31,\n",
       " -32,\n",
       " -33,\n",
       " -34,\n",
       " -33,\n",
       " -32,\n",
       " -31,\n",
       " -32,\n",
       " -33,\n",
       " -32,\n",
       " -33,\n",
       " -34,\n",
       " -33,\n",
       " -32,\n",
       " -33,\n",
       " -32,\n",
       " -31,\n",
       " -30,\n",
       " -31,\n",
       " -30,\n",
       " -29,\n",
       " -28,\n",
       " -29,\n",
       " -28,\n",
       " -29,\n",
       " -28,\n",
       " -29,\n",
       " -30,\n",
       " -29,\n",
       " -30,\n",
       " -29,\n",
       " -28,\n",
       " -27,\n",
       " -26,\n",
       " -27,\n",
       " -28,\n",
       " -29,\n",
       " -30,\n",
       " -31,\n",
       " -30,\n",
       " -29,\n",
       " -28,\n",
       " -29,\n",
       " -30,\n",
       " -29,\n",
       " -28,\n",
       " -29,\n",
       " -28,\n",
       " -27,\n",
       " -28,\n",
       " -29,\n",
       " -28,\n",
       " -27,\n",
       " -26,\n",
       " -27,\n",
       " -26,\n",
       " -27,\n",
       " -28,\n",
       " -29,\n",
       " -30,\n",
       " -29,\n",
       " -30,\n",
       " -31,\n",
       " -32,\n",
       " -33,\n",
       " -34,\n",
       " -35,\n",
       " -34,\n",
       " -35,\n",
       " -36,\n",
       " -37,\n",
       " -36,\n",
       " -35,\n",
       " -34,\n",
       " -35,\n",
       " -34,\n",
       " -33,\n",
       " -34,\n",
       " -35,\n",
       " -36,\n",
       " -35,\n",
       " -36,\n",
       " -35,\n",
       " -34,\n",
       " -35,\n",
       " -36,\n",
       " -37,\n",
       " -38,\n",
       " -39,\n",
       " -40,\n",
       " -41,\n",
       " -40,\n",
       " -41,\n",
       " -40,\n",
       " -41,\n",
       " -42,\n",
       " -41,\n",
       " -42,\n",
       " -41,\n",
       " -40,\n",
       " -39,\n",
       " -40,\n",
       " -39,\n",
       " -40,\n",
       " -41,\n",
       " -40,\n",
       " -41,\n",
       " -40,\n",
       " -39,\n",
       " -40,\n",
       " -39,\n",
       " -40,\n",
       " -41,\n",
       " -42,\n",
       " -43,\n",
       " -44,\n",
       " -43,\n",
       " -44,\n",
       " -43,\n",
       " -42,\n",
       " -41,\n",
       " -40,\n",
       " -39,\n",
       " -40,\n",
       " -39,\n",
       " -38,\n",
       " -39,\n",
       " -38,\n",
       " -37,\n",
       " -38,\n",
       " -39,\n",
       " -38,\n",
       " -39,\n",
       " -40,\n",
       " -41,\n",
       " -40,\n",
       " -39,\n",
       " -40,\n",
       " -39,\n",
       " -38,\n",
       " -39,\n",
       " -40,\n",
       " -39,\n",
       " -40,\n",
       " -41,\n",
       " -40,\n",
       " -39,\n",
       " -38,\n",
       " -37,\n",
       " -36,\n",
       " -37,\n",
       " -38,\n",
       " -37,\n",
       " -38,\n",
       " -37,\n",
       " -36,\n",
       " -35,\n",
       " -34,\n",
       " -35,\n",
       " -36,\n",
       " -35,\n",
       " -34,\n",
       " -33,\n",
       " -32,\n",
       " -31,\n",
       " -32,\n",
       " -33,\n",
       " -32,\n",
       " -33,\n",
       " -32,\n",
       " -33,\n",
       " -32,\n",
       " -31,\n",
       " -30,\n",
       " -31,\n",
       " -30,\n",
       " -31,\n",
       " -32,\n",
       " -31,\n",
       " -32,\n",
       " -33,\n",
       " -32,\n",
       " -33,\n",
       " -34,\n",
       " -35,\n",
       " -36,\n",
       " -35,\n",
       " -36,\n",
       " -37,\n",
       " -38,\n",
       " -37,\n",
       " -38,\n",
       " -39,\n",
       " -38,\n",
       " -37,\n",
       " -38,\n",
       " -37,\n",
       " -38,\n",
       " -39,\n",
       " -40,\n",
       " -41,\n",
       " -40,\n",
       " -39,\n",
       " -38,\n",
       " -39,\n",
       " -40,\n",
       " -41,\n",
       " -42,\n",
       " -41,\n",
       " -40,\n",
       " -41,\n",
       " -42,\n",
       " -43,\n",
       " -44,\n",
       " -45,\n",
       " -44,\n",
       " -45,\n",
       " -44,\n",
       " -45,\n",
       " -44,\n",
       " -43,\n",
       " -42,\n",
       " -41,\n",
       " -40,\n",
       " -39,\n",
       " -40,\n",
       " -41,\n",
       " -40,\n",
       " -39,\n",
       " -38,\n",
       " -39,\n",
       " -38,\n",
       " -39,\n",
       " -40,\n",
       " -39,\n",
       " -40,\n",
       " -39,\n",
       " -38,\n",
       " -37,\n",
       " -36,\n",
       " -35,\n",
       " -34,\n",
       " -35,\n",
       " -36,\n",
       " -37,\n",
       " -36,\n",
       " -37,\n",
       " -36,\n",
       " -35,\n",
       " -34,\n",
       " -33,\n",
       " -32,\n",
       " -31,\n",
       " -32,\n",
       " -31,\n",
       " -30,\n",
       " -31,\n",
       " -32,\n",
       " -31,\n",
       " -30,\n",
       " -29,\n",
       " -28,\n",
       " -29,\n",
       " -28,\n",
       " -29,\n",
       " -28,\n",
       " -29,\n",
       " -28,\n",
       " -27,\n",
       " -26,\n",
       " -27,\n",
       " -26,\n",
       " -27,\n",
       " -26,\n",
       " -27,\n",
       " -26,\n",
       " -27,\n",
       " -26,\n",
       " -27,\n",
       " -26,\n",
       " -27,\n",
       " -26,\n",
       " -27,\n",
       " -26,\n",
       " -27,\n",
       " -26,\n",
       " -27,\n",
       " -26,\n",
       " -25,\n",
       " -26,\n",
       " -27,\n",
       " -26,\n",
       " -27,\n",
       " -28,\n",
       " -27,\n",
       " -26,\n",
       " -25,\n",
       " -26,\n",
       " -27,\n",
       " -26,\n",
       " -25,\n",
       " -24,\n",
       " -25,\n",
       " -26,\n",
       " -25,\n",
       " -24,\n",
       " -23,\n",
       " -22,\n",
       " -21,\n",
       " -22,\n",
       " -23,\n",
       " -22,\n",
       " -21,\n",
       " -22,\n",
       " -23,\n",
       " -24,\n",
       " -23,\n",
       " -24,\n",
       " -25,\n",
       " -26,\n",
       " -27,\n",
       " -26,\n",
       " -27,\n",
       " -28,\n",
       " -29,\n",
       " -28,\n",
       " -27,\n",
       " -26,\n",
       " -27,\n",
       " -26,\n",
       " -27,\n",
       " -26,\n",
       " -27,\n",
       " -28,\n",
       " -27,\n",
       " -26,\n",
       " -27,\n",
       " -26,\n",
       " -27,\n",
       " -28,\n",
       " -27,\n",
       " -28,\n",
       " -27,\n",
       " -26,\n",
       " -27,\n",
       " -26,\n",
       " -25,\n",
       " -24,\n",
       " -23,\n",
       " -22,\n",
       " -23,\n",
       " -24,\n",
       " -25,\n",
       " -24,\n",
       " -25,\n",
       " -24,\n",
       " -23,\n",
       " -24,\n",
       " -23,\n",
       " -22,\n",
       " -23,\n",
       " -24,\n",
       " -23,\n",
       " -24,\n",
       " -23,\n",
       " -24,\n",
       " -25,\n",
       " -24,\n",
       " -23,\n",
       " -24,\n",
       " -23,\n",
       " -24,\n",
       " -23,\n",
       " -24,\n",
       " -25,\n",
       " -24,\n",
       " -23,\n",
       " -24,\n",
       " -25,\n",
       " -24,\n",
       " -25,\n",
       " -24,\n",
       " -23,\n",
       " -22,\n",
       " -21,\n",
       " -20,\n",
       " -19,\n",
       " -20,\n",
       " -19,\n",
       " -18,\n",
       " -19,\n",
       " -20,\n",
       " -21,\n",
       " -20,\n",
       " -19,\n",
       " -20,\n",
       " -21,\n",
       " -20,\n",
       " -21,\n",
       " -20,\n",
       " -21,\n",
       " -22,\n",
       " -23,\n",
       " -24,\n",
       " -23,\n",
       " -24,\n",
       " -23,\n",
       " -22,\n",
       " -23,\n",
       " -22,\n",
       " -21,\n",
       " -22,\n",
       " -21,\n",
       " -22,\n",
       " -21,\n",
       " -22,\n",
       " -21,\n",
       " -22,\n",
       " -23,\n",
       " -22,\n",
       " -21,\n",
       " -22,\n",
       " -21,\n",
       " -22,\n",
       " -23,\n",
       " -24,\n",
       " -23,\n",
       " -22,\n",
       " -21,\n",
       " -20,\n",
       " -21,\n",
       " -20,\n",
       " -21,\n",
       " -22,\n",
       " -21,\n",
       " -20,\n",
       " -19,\n",
       " -20,\n",
       " -19,\n",
       " -18,\n",
       " -17,\n",
       " -18,\n",
       " -19,\n",
       " -18,\n",
       " -17,\n",
       " -16,\n",
       " -17,\n",
       " -18,\n",
       " -19,\n",
       " -20,\n",
       " -21,\n",
       " -22,\n",
       " -21,\n",
       " -22,\n",
       " -21,\n",
       " -22,\n",
       " -23,\n",
       " -22,\n",
       " -23,\n",
       " -24,\n",
       " -25,\n",
       " -24,\n",
       " -25,\n",
       " -26,\n",
       " -27,\n",
       " -28,\n",
       " -27,\n",
       " -28,\n",
       " -29,\n",
       " -30,\n",
       " -31,\n",
       " -32,\n",
       " -33,\n",
       " -34,\n",
       " -33,\n",
       " -34,\n",
       " -35,\n",
       " -34,\n",
       " -35,\n",
       " -34,\n",
       " -35,\n",
       " -36,\n",
       " -35,\n",
       " -36,\n",
       " -37,\n",
       " -38,\n",
       " -39,\n",
       " -38,\n",
       " -37,\n",
       " -38,\n",
       " -39,\n",
       " -40,\n",
       " -41,\n",
       " -42,\n",
       " -41,\n",
       " -40,\n",
       " -41,\n",
       " -42,\n",
       " -41,\n",
       " -40,\n",
       " -39,\n",
       " -40,\n",
       " -41,\n",
       " -40,\n",
       " -41,\n",
       " -42,\n",
       " -41,\n",
       " -42,\n",
       " -43,\n",
       " -44,\n",
       " -43,\n",
       " -42,\n",
       " -41,\n",
       " -42,\n",
       " -41,\n",
       " -42,\n",
       " -41,\n",
       " -40,\n",
       " -39,\n",
       " -40,\n",
       " -39,\n",
       " -38,\n",
       " -39,\n",
       " -40,\n",
       " -41,\n",
       " -42,\n",
       " -41,\n",
       " -42,\n",
       " -43,\n",
       " -42,\n",
       " -41,\n",
       " -42,\n",
       " -43,\n",
       " -42,\n",
       " -43,\n",
       " -42,\n",
       " -43,\n",
       " -44,\n",
       " -43,\n",
       " -42,\n",
       " -41,\n",
       " -40,\n",
       " -39,\n",
       " -38,\n",
       " -39,\n",
       " -40,\n",
       " -39,\n",
       " -38,\n",
       " -39,\n",
       " -40,\n",
       " -41,\n",
       " -42,\n",
       " -43,\n",
       " -44,\n",
       " -43,\n",
       " -44,\n",
       " -43,\n",
       " -42,\n",
       " -43,\n",
       " -44,\n",
       " -43,\n",
       " -44,\n",
       " -45,\n",
       " -46,\n",
       " -47,\n",
       " -46,\n",
       " -47,\n",
       " -46,\n",
       " -47,\n",
       " -48,\n",
       " -47,\n",
       " -46,\n",
       " -47,\n",
       " -48,\n",
       " -49,\n",
       " -50,\n",
       " -51,\n",
       " -50,\n",
       " -51,\n",
       " -52,\n",
       " -53,\n",
       " -52,\n",
       " -51,\n",
       " -52,\n",
       " -51,\n",
       " -52,\n",
       " -53,\n",
       " -52,\n",
       " -51,\n",
       " -50,\n",
       " -51,\n",
       " -50,\n",
       " -51,\n",
       " -52,\n",
       " -51,\n",
       " ...]"
      ]
     },
     "execution_count": 63,
     "metadata": {},
     "output_type": "execute_result"
    }
   ],
   "source": [
    "import random\n",
    "position = 0\n",
    "walk=[position]\n",
    "steps = 1000\n",
    "for i in range(steps):\n",
    "    step = 1 if random.randint(0,1) else -1\n",
    "    position += step\n",
    "    walk.append(position)\n",
    "walk"
   ]
  },
  {
   "cell_type": "code",
   "execution_count": 66,
   "metadata": {},
   "outputs": [
    {
     "data": {
      "text/plain": [
       "array([  1,   0,  -1,  -2,  -3,  -4,  -3,  -2,  -3,  -4,  -3,  -4,  -5,\n",
       "        -6,  -5,  -6,  -5,  -6,  -5,  -4,  -5,  -6,  -7,  -6,  -7,  -8,\n",
       "        -9, -10,  -9, -10, -11, -10,  -9, -10,  -9,  -8,  -7,  -8,  -9,\n",
       "        -8,  -9, -10,  -9, -10,  -9, -10,  -9, -10, -11, -10, -11, -10,\n",
       "        -9,  -8,  -7,  -8,  -7,  -8,  -9,  -8,  -7,  -8,  -9, -10, -11,\n",
       "       -10,  -9,  -8,  -7,  -8,  -9,  -8,  -9,  -8,  -7,  -6,  -7,  -6,\n",
       "        -7,  -6,  -7,  -6,  -7,  -6,  -5,  -6,  -7,  -8,  -7,  -8,  -9,\n",
       "        -8,  -9, -10,  -9,  -8,  -7,  -8,  -9,  -8], dtype=int32)"
      ]
     },
     "execution_count": 66,
     "metadata": {},
     "output_type": "execute_result"
    }
   ],
   "source": [
    "nsteps = 100\n",
    "draws = np.random.randint(0,2,size=nsteps)\n",
    "steps = np.where(draws>0,1,-1)\n",
    "walk = steps.cumsum()\n",
    "walk"
   ]
  },
  {
   "cell_type": "code",
   "execution_count": 67,
   "metadata": {},
   "outputs": [
    {
     "data": {
      "text/plain": [
       "-11"
      ]
     },
     "execution_count": 67,
     "metadata": {},
     "output_type": "execute_result"
    }
   ],
   "source": [
    "walk.min()"
   ]
  },
  {
   "cell_type": "code",
   "execution_count": 68,
   "metadata": {},
   "outputs": [
    {
     "data": {
      "text/plain": [
       "1"
      ]
     },
     "execution_count": 68,
     "metadata": {},
     "output_type": "execute_result"
    }
   ],
   "source": [
    "walk.max()"
   ]
  },
  {
   "cell_type": "code",
   "execution_count": 69,
   "metadata": {},
   "outputs": [
    {
     "data": {
      "text/plain": [
       "27"
      ]
     },
     "execution_count": 69,
     "metadata": {},
     "output_type": "execute_result"
    }
   ],
   "source": [
    "(np.abs(walk)>= 10).argmax()"
   ]
  },
  {
   "cell_type": "code",
   "execution_count": 72,
   "metadata": {},
   "outputs": [
    {
     "data": {
      "text/plain": [
       "array([[  1,   0,   1, ...,  10,   9,   8],\n",
       "       [ -1,   0,  -1, ..., -12, -13, -14],\n",
       "       [  1,   2,   1, ...,  -8,  -7,  -8],\n",
       "       ...,\n",
       "       [ -1,   0,   1, ...,  14,  13,  14],\n",
       "       [  1,   2,   3, ..., -10, -11, -12],\n",
       "       [ -1,   0,  -1, ..., -16, -17, -18]], dtype=int32)"
      ]
     },
     "execution_count": 72,
     "metadata": {},
     "output_type": "execute_result"
    }
   ],
   "source": [
    "nwalks = 100\n",
    "nsteps =100\n",
    "draws = np.random.randint(0,2,size=(nwalks,nsteps))\n",
    "steps = np.where(draws>0,1,-1)\n",
    "walks = steps.cumsum(1)\n",
    "walks"
   ]
  },
  {
   "cell_type": "code",
   "execution_count": 73,
   "metadata": {},
   "outputs": [
    {
     "data": {
      "text/plain": [
       "29"
      ]
     },
     "execution_count": 73,
     "metadata": {},
     "output_type": "execute_result"
    }
   ],
   "source": [
    "walks.max()"
   ]
  },
  {
   "cell_type": "code",
   "execution_count": 74,
   "metadata": {},
   "outputs": [
    {
     "data": {
      "text/plain": [
       "-21"
      ]
     },
     "execution_count": 74,
     "metadata": {},
     "output_type": "execute_result"
    }
   ],
   "source": [
    "walks.min()"
   ]
  },
  {
   "cell_type": "code",
   "execution_count": null,
   "metadata": {},
   "outputs": [],
   "source": []
  }
 ],
 "metadata": {
  "kernelspec": {
   "display_name": "Python 3",
   "language": "python",
   "name": "python3"
  },
  "language_info": {
   "codemirror_mode": {
    "name": "ipython",
    "version": 3
   },
   "file_extension": ".py",
   "mimetype": "text/x-python",
   "name": "python",
   "nbconvert_exporter": "python",
   "pygments_lexer": "ipython3",
   "version": "3.7.3"
  }
 },
 "nbformat": 4,
 "nbformat_minor": 2
}
